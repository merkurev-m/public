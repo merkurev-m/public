{
 "cells": [
  {
   "cell_type": "markdown",
   "id": "b4098896",
   "metadata": {},
   "source": [
    "# Task\n",
    "\n",
    "Parse all mobile models with all characteristics from https://www.gsmarena.com/"
   ]
  },
  {
   "cell_type": "code",
   "execution_count": 1,
   "id": "033238a8",
   "metadata": {},
   "outputs": [],
   "source": [
    "#pip install jupyter_contrib_nbextensions"
   ]
  },
  {
   "cell_type": "code",
   "execution_count": 2,
   "id": "035f26cf",
   "metadata": {},
   "outputs": [],
   "source": [
    "#!jupyter contrib nbextension install --user"
   ]
  },
  {
   "cell_type": "code",
   "execution_count": 231,
   "id": "4adf185a",
   "metadata": {},
   "outputs": [],
   "source": [
    "import requests\n",
    "from bs4 import BeautifulSoup as bs\n",
    "import pandas as pd\n",
    "import re\n",
    "from random import randint\n",
    "from time import sleep\n",
    "import logging"
   ]
  },
  {
   "cell_type": "code",
   "execution_count": 7,
   "id": "fd26af92",
   "metadata": {
    "scrolled": false
   },
   "outputs": [
    {
     "name": "stdout",
     "output_type": "stream",
     "text": [
      "200\n"
     ]
    }
   ],
   "source": [
    "URL_TEMPLATE = \"https://www.gsmarena.com/acer-phones-59.php\"\n",
    "r = requests.get(URL_TEMPLATE)\n",
    "print(r.status_code)\n",
    "soup = bs(r.text, \"html.parser\")"
   ]
  },
  {
   "cell_type": "markdown",
   "id": "a866a978",
   "metadata": {},
   "source": [
    "# Parse brands"
   ]
  },
  {
   "cell_type": "code",
   "execution_count": 8,
   "id": "4df8f9ce",
   "metadata": {},
   "outputs": [
    {
     "name": "stdout",
     "output_type": "stream",
     "text": [
      "200\n"
     ]
    }
   ],
   "source": [
    "URL_TEMPLATE = \"https://www.gsmarena.com/makers.php3\"\n",
    "r = requests.get(URL_TEMPLATE)\n",
    "print(r.status_code)"
   ]
  },
  {
   "cell_type": "code",
   "execution_count": 9,
   "id": "069688dc",
   "metadata": {},
   "outputs": [],
   "source": [
    "soup = bs(r.text, \"html.parser\")"
   ]
  },
  {
   "cell_type": "code",
   "execution_count": 10,
   "id": "00fbdbf9",
   "metadata": {},
   "outputs": [],
   "source": [
    "brands = soup.find_all('a')"
   ]
  },
  {
   "cell_type": "code",
   "execution_count": 11,
   "id": "4b922841",
   "metadata": {},
   "outputs": [],
   "source": [
    "result_list = {'href': []}"
   ]
  },
  {
   "cell_type": "code",
   "execution_count": 12,
   "id": "a7780c19",
   "metadata": {
    "scrolled": true
   },
   "outputs": [],
   "source": [
    "for name in brands:\n",
    "    try:\n",
    "        result_list['href'].append('https://www.gsmarena.com/'+ re.search('href=\"(.*)\"', str(name)).group(1).split('\"')[0])\n",
    "    #     print(re.search('href=\"(.*)\"', str(name)).group(1).split('\"')[0])\n",
    "    except AttributeError:\n",
    "        continue"
   ]
  },
  {
   "cell_type": "code",
   "execution_count": 13,
   "id": "6b955f39",
   "metadata": {},
   "outputs": [],
   "source": [
    "df = pd.DataFrame(result_list, columns=['href'])\n",
    "df = df[df['href'].str.contains('phones')]\n",
    "df = df.reset_index(drop=True)\n",
    "df['brand'] ='NULL'"
   ]
  },
  {
   "cell_type": "code",
   "execution_count": 14,
   "id": "cff4d0f2",
   "metadata": {},
   "outputs": [],
   "source": [
    "for index, value in enumerate(df['href']):\n",
    "    df['brand'][index] = df['href'][index].split('/')[3].split('-')[0]"
   ]
  },
  {
   "cell_type": "code",
   "execution_count": 15,
   "id": "108b6bfa",
   "metadata": {},
   "outputs": [
    {
     "data": {
      "text/html": [
       "<div>\n",
       "<style scoped>\n",
       "    .dataframe tbody tr th:only-of-type {\n",
       "        vertical-align: middle;\n",
       "    }\n",
       "\n",
       "    .dataframe tbody tr th {\n",
       "        vertical-align: top;\n",
       "    }\n",
       "\n",
       "    .dataframe thead th {\n",
       "        text-align: right;\n",
       "    }\n",
       "</style>\n",
       "<table border=\"1\" class=\"dataframe\">\n",
       "  <thead>\n",
       "    <tr style=\"text-align: right;\">\n",
       "      <th></th>\n",
       "      <th>href</th>\n",
       "      <th>brand</th>\n",
       "    </tr>\n",
       "  </thead>\n",
       "  <tbody>\n",
       "    <tr>\n",
       "      <th>0</th>\n",
       "      <td>https://www.gsmarena.com/acer-phones-59.php</td>\n",
       "      <td>acer</td>\n",
       "    </tr>\n",
       "    <tr>\n",
       "      <th>1</th>\n",
       "      <td>https://www.gsmarena.com/alcatel-phones-5.php</td>\n",
       "      <td>alcatel</td>\n",
       "    </tr>\n",
       "    <tr>\n",
       "      <th>2</th>\n",
       "      <td>https://www.gsmarena.com/allview-phones-88.php</td>\n",
       "      <td>allview</td>\n",
       "    </tr>\n",
       "    <tr>\n",
       "      <th>3</th>\n",
       "      <td>https://www.gsmarena.com/amazon-phones-76.php</td>\n",
       "      <td>amazon</td>\n",
       "    </tr>\n",
       "    <tr>\n",
       "      <th>4</th>\n",
       "      <td>https://www.gsmarena.com/amoi-phones-28.php</td>\n",
       "      <td>amoi</td>\n",
       "    </tr>\n",
       "  </tbody>\n",
       "</table>\n",
       "</div>"
      ],
      "text/plain": [
       "                                             href    brand\n",
       "0     https://www.gsmarena.com/acer-phones-59.php     acer\n",
       "1   https://www.gsmarena.com/alcatel-phones-5.php  alcatel\n",
       "2  https://www.gsmarena.com/allview-phones-88.php  allview\n",
       "3   https://www.gsmarena.com/amazon-phones-76.php   amazon\n",
       "4     https://www.gsmarena.com/amoi-phones-28.php     amoi"
      ]
     },
     "execution_count": 15,
     "metadata": {},
     "output_type": "execute_result"
    }
   ],
   "source": [
    "df.head()"
   ]
  },
  {
   "cell_type": "code",
   "execution_count": 34,
   "id": "a5e336a9",
   "metadata": {},
   "outputs": [],
   "source": []
  },
  {
   "cell_type": "markdown",
   "id": "e927cb0b",
   "metadata": {},
   "source": [
    "# Parse all brands, go via pagination"
   ]
  },
  {
   "cell_type": "code",
   "execution_count": 147,
   "id": "1e981850",
   "metadata": {},
   "outputs": [],
   "source": [
    "list_all_brands =  {'href': [], 'brand': []}"
   ]
  },
  {
   "cell_type": "code",
   "execution_count": 148,
   "id": "3d314762",
   "metadata": {},
   "outputs": [],
   "source": [
    "for index, value in enumerate(df['href']):\n",
    "    for num in range(2,16):\n",
    "        list_all_brands['href'].append(df['href'][index].split('phones')[0] +'phones-f'+ df['href'][index].split('phones')[1].split('.')[0] + '-0-p' + str(num) + '.php')\n",
    "        list_all_brands['brand'].append(df['href'][index].split('/')[3].split('-')[0])\n"
   ]
  },
  {
   "cell_type": "code",
   "execution_count": 149,
   "id": "ec2f5343",
   "metadata": {},
   "outputs": [
    {
     "data": {
      "text/html": [
       "<div>\n",
       "<style scoped>\n",
       "    .dataframe tbody tr th:only-of-type {\n",
       "        vertical-align: middle;\n",
       "    }\n",
       "\n",
       "    .dataframe tbody tr th {\n",
       "        vertical-align: top;\n",
       "    }\n",
       "\n",
       "    .dataframe thead th {\n",
       "        text-align: right;\n",
       "    }\n",
       "</style>\n",
       "<table border=\"1\" class=\"dataframe\">\n",
       "  <thead>\n",
       "    <tr style=\"text-align: right;\">\n",
       "      <th></th>\n",
       "      <th>href</th>\n",
       "      <th>brand</th>\n",
       "    </tr>\n",
       "  </thead>\n",
       "  <tbody>\n",
       "    <tr>\n",
       "      <th>0</th>\n",
       "      <td>https://www.gsmarena.com/acer-phones-f-59-0-p2...</td>\n",
       "      <td>acer</td>\n",
       "    </tr>\n",
       "    <tr>\n",
       "      <th>1</th>\n",
       "      <td>https://www.gsmarena.com/acer-phones-f-59-0-p3...</td>\n",
       "      <td>acer</td>\n",
       "    </tr>\n",
       "    <tr>\n",
       "      <th>2</th>\n",
       "      <td>https://www.gsmarena.com/acer-phones-f-59-0-p4...</td>\n",
       "      <td>acer</td>\n",
       "    </tr>\n",
       "    <tr>\n",
       "      <th>3</th>\n",
       "      <td>https://www.gsmarena.com/acer-phones-f-59-0-p5...</td>\n",
       "      <td>acer</td>\n",
       "    </tr>\n",
       "    <tr>\n",
       "      <th>4</th>\n",
       "      <td>https://www.gsmarena.com/acer-phones-f-59-0-p6...</td>\n",
       "      <td>acer</td>\n",
       "    </tr>\n",
       "    <tr>\n",
       "      <th>...</th>\n",
       "      <td>...</td>\n",
       "      <td>...</td>\n",
       "    </tr>\n",
       "    <tr>\n",
       "      <th>2165</th>\n",
       "      <td>https://www.gsmarena.com/plum-phones-f-72-0-p1...</td>\n",
       "      <td>plum</td>\n",
       "    </tr>\n",
       "    <tr>\n",
       "      <th>2166</th>\n",
       "      <td>https://www.gsmarena.com/plum-phones-f-72-0-p1...</td>\n",
       "      <td>plum</td>\n",
       "    </tr>\n",
       "    <tr>\n",
       "      <th>2167</th>\n",
       "      <td>https://www.gsmarena.com/plum-phones-f-72-0-p1...</td>\n",
       "      <td>plum</td>\n",
       "    </tr>\n",
       "    <tr>\n",
       "      <th>2168</th>\n",
       "      <td>https://www.gsmarena.com/plum-phones-f-72-0-p1...</td>\n",
       "      <td>plum</td>\n",
       "    </tr>\n",
       "    <tr>\n",
       "      <th>2169</th>\n",
       "      <td>https://www.gsmarena.com/plum-phones-f-72-0-p1...</td>\n",
       "      <td>plum</td>\n",
       "    </tr>\n",
       "  </tbody>\n",
       "</table>\n",
       "<p>2170 rows × 2 columns</p>\n",
       "</div>"
      ],
      "text/plain": [
       "                                                   href brand\n",
       "0     https://www.gsmarena.com/acer-phones-f-59-0-p2...  acer\n",
       "1     https://www.gsmarena.com/acer-phones-f-59-0-p3...  acer\n",
       "2     https://www.gsmarena.com/acer-phones-f-59-0-p4...  acer\n",
       "3     https://www.gsmarena.com/acer-phones-f-59-0-p5...  acer\n",
       "4     https://www.gsmarena.com/acer-phones-f-59-0-p6...  acer\n",
       "...                                                 ...   ...\n",
       "2165  https://www.gsmarena.com/plum-phones-f-72-0-p1...  plum\n",
       "2166  https://www.gsmarena.com/plum-phones-f-72-0-p1...  plum\n",
       "2167  https://www.gsmarena.com/plum-phones-f-72-0-p1...  plum\n",
       "2168  https://www.gsmarena.com/plum-phones-f-72-0-p1...  plum\n",
       "2169  https://www.gsmarena.com/plum-phones-f-72-0-p1...  plum\n",
       "\n",
       "[2170 rows x 2 columns]"
      ]
     },
     "execution_count": 149,
     "metadata": {},
     "output_type": "execute_result"
    }
   ],
   "source": [
    "df_2 =  pd.DataFrame(list_all_brands, columns= ['href','brand'])\n",
    "df_2"
   ]
  },
  {
   "cell_type": "markdown",
   "id": "ee543daa",
   "metadata": {},
   "source": [
    "# Parse 1st model page"
   ]
  },
  {
   "cell_type": "code",
   "execution_count": 221,
   "id": "ec525c6c",
   "metadata": {},
   "outputs": [],
   "source": [
    "models_list = {'model': [], 'source':[]}"
   ]
  },
  {
   "cell_type": "code",
   "execution_count": 1290,
   "id": "affef0af",
   "metadata": {},
   "outputs": [],
   "source": [
    "for index, value in enumerate(df['href']):\n",
    "    r = requests.get(value)\n",
    "    print(r.status_code,index,value)\n",
    "    sleep(randint(1,5)) \n",
    "    \n",
    "    #парсим\n",
    "    soup = bs(r.text, \"html.parser\")\n",
    "    models = soup.find_all('li')\n",
    "    \n",
    "    for name in models:\n",
    "        if re.search(r\"img src\", str(name)):\n",
    "            models_list['model'].append('https://www.gsmarena.com/'+ re.search('href=\"(.*)\"', str(name)).group(1).split('\"')[0])\n",
    "            models_list['source'].append(value)\n",
    "        else:\n",
    "            continue    \n",
    "            "
   ]
  },
  {
   "cell_type": "code",
   "execution_count": null,
   "id": "bf64de90",
   "metadata": {},
   "outputs": [],
   "source": [
    "models_lis_df =  pd.DataFrame(models_list, columns=['model','source'])\n",
    "models_lis_df['brand'] = 'NULL'\n",
    "for index, value in enumerate(models_lis_df['source']):\n",
    "    models_lis_df['brand'][index] = models_lis_df['source'][index].split('/')[3].split('-')[0]"
   ]
  },
  {
   "cell_type": "code",
   "execution_count": 619,
   "id": "0de26bfb",
   "metadata": {},
   "outputs": [],
   "source": [
    "models_lis_df.to_csv('parsed_devices_links_13feb23.csv')"
   ]
  },
  {
   "cell_type": "markdown",
   "id": "6f6b9f28",
   "metadata": {},
   "source": [
    "# Parse all model pages "
   ]
  },
  {
   "cell_type": "code",
   "execution_count": 1150,
   "id": "531800de",
   "metadata": {},
   "outputs": [],
   "source": [
    "models_list_pag = {'model': [], 'source':[], 'brand':[]}"
   ]
  },
  {
   "cell_type": "code",
   "execution_count": 1,
   "id": "0507c6d4",
   "metadata": {
    "scrolled": true
   },
   "outputs": [],
   "source": [
    "for index_b, value_b in enumerate(df_2['brand'].drop_duplicates()):\n",
    "    \n",
    "    for index, value in enumerate(df_2['href'][df_2['brand'] == value_b]):\n",
    "        r = requests.get(value)\n",
    "        print(r.status_code,index,value)\n",
    "        sleep(randint(1,5)) \n",
    "        soup = bs(r.text, \"html.parser\")\n",
    "        models = soup.find_all('li')\n",
    "        \n",
    "        if type(re.search(r\"img src\", str(models))) is type(None):\n",
    "            break \n",
    "        else:\n",
    "            for name in models:\n",
    "                if type(re.search(r\"img src\", str(name))) is not type(None):\n",
    "                    models_list_pag['model'].append('https://www.gsmarena.com/'+ re.search('href=\"(.*)\"', str(name)).group(1).split('\"')[0])\n",
    "                    models_list_pag['source'].append(value)\n",
    "                    models_list_pag['brand'].append(value_b)\n",
    "                else:\n",
    "                    continue    \n",
    "            "
   ]
  },
  {
   "cell_type": "code",
   "execution_count": 1152,
   "id": "81680281",
   "metadata": {},
   "outputs": [],
   "source": [
    "models_lis_df_others =  pd.DataFrame(models_list_pag, columns= ['model','source'])"
   ]
  },
  {
   "cell_type": "code",
   "execution_count": 1153,
   "id": "910031b1",
   "metadata": {},
   "outputs": [],
   "source": [
    "models_lis_df_others = models_lis_df_others.drop_duplicates()  "
   ]
  },
  {
   "cell_type": "code",
   "execution_count": 1154,
   "id": "ceca7b1d",
   "metadata": {},
   "outputs": [],
   "source": [
    "models_lis_df_others['brand'] = 'NULL'\n",
    "for index, value in enumerate(models_lis_df_others['source']):\n",
    "    models_lis_df_others['brand'][index] = models_lis_df_others['source'][index].split('/')[3].split('-')[0]"
   ]
  },
  {
   "cell_type": "code",
   "execution_count": 161,
   "id": "3433c426",
   "metadata": {},
   "outputs": [],
   "source": [
    "models_lis_df_others.to_csv('models_lis_df_others.csv')"
   ]
  },
  {
   "cell_type": "markdown",
   "id": "d65cfc83",
   "metadata": {},
   "source": [
    "# Open every model page and get info from such website: from 1st page\n",
    "\n",
    "Due to the fact that there are a lot of requests and they began to block me by IP, I connected this service https://app.zyte.com/. You need to link the card, but there is a 14-day free trial."
   ]
  },
  {
   "cell_type": "code",
   "execution_count": 1289,
   "id": "f499ee41",
   "metadata": {},
   "outputs": [],
   "source": [
    "models_lis_df = pd.read_csv(\"models_lis_df_others.csv\")\n",
    "models_lis_df = models_lis_df.drop(columns=['Unnamed: 0'])\n",
    "models_lis_df = models_lis_df.drop_duplicates()  \n",
    "models_lis_df"
   ]
  },
  {
   "cell_type": "code",
   "execution_count": 1147,
   "id": "403acc0b",
   "metadata": {},
   "outputs": [],
   "source": [
    "data_model_raw = pd.DataFrame({\n",
    "    'data_spec': [None] ,\n",
    "    'data_spec_value': [None]  ,\n",
    "    'model': [None],\n",
    "    'model_name':[None]\n",
    "})"
   ]
  },
  {
   "cell_type": "code",
   "execution_count": 1148,
   "id": "6cfb4422",
   "metadata": {},
   "outputs": [],
   "source": [
    "# html_data_model_raw = pd.DataFrame({\n",
    "#     'model': [None],\n",
    "#     'html':[None]\n",
    "# })"
   ]
  },
  {
   "cell_type": "code",
   "execution_count": 1149,
   "id": "3447f65c",
   "metadata": {},
   "outputs": [],
   "source": [
    "# сортировка\n",
    "models_lis_df = models_lis_df.sort_values(by='model', ascending=True, inplace=False, na_position='last')\n",
    "models_lis_df = models_lis_df.reset_index(drop=True)"
   ]
  },
  {
   "cell_type": "code",
   "execution_count": 1288,
   "id": "bdd736c6",
   "metadata": {
    "scrolled": true
   },
   "outputs": [],
   "source": [
    "for global_index, model_value in enumerate(models_lis_df['model']):\n",
    "    #подключаемся\n",
    "    r = requests.get(model_value,\n",
    "                     proxies={\n",
    "        \"http\": \"\",\n",
    "        \"https\": \"\",\n",
    "    },\n",
    "    verify='' )\n",
    "    soup = bs(r.text, \"html.parser\")\n",
    "    print(r.status_code,global_index,model_value)\n",
    "  #  sleep(randint(0,1))\n",
    "    \n",
    "    #парсим, выкидывая строчки, где падают ошибки - обычно это строчки в которых все поля незаполнены + сохраняем всю страницу на всякий\n",
    "    data_model = soup.find_all('td',\"nfo\",'data-spec')\n",
    "    model_name = soup.find_all('title')\n",
    "    df3= pd.DataFrame( {\n",
    "                     \"model\": [model_value],\n",
    "                     \"html\": str(soup)\n",
    "                    })\n",
    "    html_data_model_raw = html_data_model_raw.append(df3, ignore_index = True)\n",
    "    \n",
    "    for index,value in enumerate(data_model):\n",
    "        try:\n",
    "            df2 = pd.DataFrame( {\n",
    "                     \"data_spec\": [re.search('data-spec=\"(.*)\"', str(value)).group(1).split('\"')[0]],\n",
    "                     \"data_spec_value\":re.search('<td.*>(.*)</td>', str(value)).group(1).split('\"')[0], \n",
    "                     \"model\": model_value,\n",
    "                     \"model_name\": re.search('<title.*>(.*)</title>', str(model_name)).group(1).split(' -')[0] })\n",
    "            data_model_raw = data_model_raw.append(df2, ignore_index = True)\n",
    "        except AttributeError:\n",
    "            continue"
   ]
  },
  {
   "cell_type": "code",
   "execution_count": 1287,
   "id": "153edc01",
   "metadata": {
    "scrolled": true
   },
   "outputs": [],
   "source": [
    "# # для парсинга из таблички\n",
    "# for global_index, model_value in enumerate(html_data_model_raw['model']):\n",
    "#     #подключаемся\n",
    "    \n",
    "#     soup = bs(html_data_model_raw['html'][global_index], \"html.parser\")\n",
    "#     print(global_index,model_value)\n",
    "    \n",
    "#     #парсим, выкидывая строчки, где падают ошибки - обычно это строчки в которых все поля незаполнены + сохраняем всю страницу на всякий\n",
    "#     data_model = soup.find_all('td',\"nfo\",'data-spec')\n",
    "#     model_name = soup.find_all('title')\n",
    "#     df3= pd.DataFrame( {\n",
    "#                      \"model\": [model_value],\n",
    "#                      \"html\": str(soup)\n",
    "#                     })\n",
    "#     html_data_model_raw = html_data_model_raw.append(df3, ignore_index = True)\n",
    "    \n",
    "#     for index,value in enumerate(data_model):\n",
    "#         try:\n",
    "#             df2 = pd.DataFrame( {\n",
    "#                      \"data_spec\": [re.search('data-spec=\"(.*)\"', str(value)).group(1).split('\"')[0]],\n",
    "#                      \"data_spec_value\":re.search('<td.*>(.*)</td>', str(value)).group(1).split('\"')[0], \n",
    "#                      \"model\": model_value,\n",
    "#                      \"model_name\": re.search('<title.*>(.*)</title>', str(model_name)).group(1).split(' -')[0] })\n",
    "#             data_model_raw = data_model_raw.append(df2, ignore_index = True)\n",
    "#         except AttributeError:\n",
    "#             continue"
   ]
  },
  {
   "cell_type": "code",
   "execution_count": 365,
   "id": "d14ae873",
   "metadata": {},
   "outputs": [
    {
     "data": {
      "text/html": [
       "<div>\n",
       "<style scoped>\n",
       "    .dataframe tbody tr th:only-of-type {\n",
       "        vertical-align: middle;\n",
       "    }\n",
       "\n",
       "    .dataframe tbody tr th {\n",
       "        vertical-align: top;\n",
       "    }\n",
       "\n",
       "    .dataframe thead th {\n",
       "        text-align: right;\n",
       "    }\n",
       "</style>\n",
       "<table border=\"1\" class=\"dataframe\">\n",
       "  <thead>\n",
       "    <tr style=\"text-align: right;\">\n",
       "      <th></th>\n",
       "      <th>model</th>\n",
       "      <th>source</th>\n",
       "      <th>brand</th>\n",
       "    </tr>\n",
       "  </thead>\n",
       "  <tbody>\n",
       "    <tr>\n",
       "      <th>1924</th>\n",
       "      <td>https://www.gsmarena.com/oppo_a58x-12027.php</td>\n",
       "      <td>https://www.gsmarena.com/oppo-phones-82.php</td>\n",
       "      <td>oppo</td>\n",
       "    </tr>\n",
       "  </tbody>\n",
       "</table>\n",
       "</div>"
      ],
      "text/plain": [
       "                                             model  \\\n",
       "1924  https://www.gsmarena.com/oppo_a58x-12027.php   \n",
       "\n",
       "                                           source brand  \n",
       "1924  https://www.gsmarena.com/oppo-phones-82.php  oppo  "
      ]
     },
     "execution_count": 365,
     "metadata": {},
     "output_type": "execute_result"
    }
   ],
   "source": [
    "# models_lis_df[(models_lis_df.model == 'https://www.gsmarena.com/oppo_a58x-12027.php')]"
   ]
  },
  {
   "cell_type": "code",
   "execution_count": 417,
   "id": "c0ae72a0",
   "metadata": {},
   "outputs": [
    {
     "data": {
      "text/html": [
       "<div>\n",
       "<style scoped>\n",
       "    .dataframe tbody tr th:only-of-type {\n",
       "        vertical-align: middle;\n",
       "    }\n",
       "\n",
       "    .dataframe tbody tr th {\n",
       "        vertical-align: top;\n",
       "    }\n",
       "\n",
       "    .dataframe thead th {\n",
       "        text-align: right;\n",
       "    }\n",
       "</style>\n",
       "<table border=\"1\" class=\"dataframe\">\n",
       "  <thead>\n",
       "    <tr style=\"text-align: right;\">\n",
       "      <th></th>\n",
       "      <th>data_spec</th>\n",
       "      <th>data_spec_value</th>\n",
       "      <th>model</th>\n",
       "      <th>model_name</th>\n",
       "    </tr>\n",
       "  </thead>\n",
       "  <tbody>\n",
       "    <tr>\n",
       "      <th>0</th>\n",
       "      <td>None</td>\n",
       "      <td>None</td>\n",
       "      <td>None</td>\n",
       "      <td>None</td>\n",
       "    </tr>\n",
       "    <tr>\n",
       "      <th>1</th>\n",
       "      <td>nettech</td>\n",
       "      <td></td>\n",
       "      <td>https://www.gsmarena.com/zte_voyage_40_pro+-12...</td>\n",
       "      <td>ZTE Voyage 40 Pro+</td>\n",
       "    </tr>\n",
       "    <tr>\n",
       "      <th>2</th>\n",
       "      <td>net2g</td>\n",
       "      <td>GSM 850 / 900 / 1800 / 1900 - SIM 1 &amp;amp; SIM 2</td>\n",
       "      <td>https://www.gsmarena.com/zte_voyage_40_pro+-12...</td>\n",
       "      <td>ZTE Voyage 40 Pro+</td>\n",
       "    </tr>\n",
       "    <tr>\n",
       "      <th>3</th>\n",
       "      <td>net3g</td>\n",
       "      <td>HSDPA 850 / 900 / 1900 / 2100</td>\n",
       "      <td>https://www.gsmarena.com/zte_voyage_40_pro+-12...</td>\n",
       "      <td>ZTE Voyage 40 Pro+</td>\n",
       "    </tr>\n",
       "    <tr>\n",
       "      <th>4</th>\n",
       "      <td>net4g</td>\n",
       "      <td>LTE</td>\n",
       "      <td>https://www.gsmarena.com/zte_voyage_40_pro+-12...</td>\n",
       "      <td>ZTE Voyage 40 Pro+</td>\n",
       "    </tr>\n",
       "    <tr>\n",
       "      <th>...</th>\n",
       "      <td>...</td>\n",
       "      <td>...</td>\n",
       "      <td>...</td>\n",
       "      <td>...</td>\n",
       "    </tr>\n",
       "    <tr>\n",
       "      <th>109941</th>\n",
       "      <td>sensors</td>\n",
       "      <td>Fingerprint (side-mounted), accelerometer, gyr...</td>\n",
       "      <td>https://www.gsmarena.com/zte_voyage_20_pro-112...</td>\n",
       "      <td>ZTE Voyage 20 Pro</td>\n",
       "    </tr>\n",
       "    <tr>\n",
       "      <th>109942</th>\n",
       "      <td>batdescription1</td>\n",
       "      <td>Li-Po 5100 mAh, non-removable</td>\n",
       "      <td>https://www.gsmarena.com/zte_voyage_20_pro-112...</td>\n",
       "      <td>ZTE Voyage 20 Pro</td>\n",
       "    </tr>\n",
       "    <tr>\n",
       "      <th>109943</th>\n",
       "      <td>colors</td>\n",
       "      <td>Black, Aurora</td>\n",
       "      <td>https://www.gsmarena.com/zte_voyage_20_pro-112...</td>\n",
       "      <td>ZTE Voyage 20 Pro</td>\n",
       "    </tr>\n",
       "    <tr>\n",
       "      <th>109944</th>\n",
       "      <td>models</td>\n",
       "      <td>9040N</td>\n",
       "      <td>https://www.gsmarena.com/zte_voyage_20_pro-112...</td>\n",
       "      <td>ZTE Voyage 20 Pro</td>\n",
       "    </tr>\n",
       "    <tr>\n",
       "      <th>109945</th>\n",
       "      <td>price</td>\n",
       "      <td>About 310 EUR</td>\n",
       "      <td>https://www.gsmarena.com/zte_voyage_20_pro-112...</td>\n",
       "      <td>ZTE Voyage 20 Pro</td>\n",
       "    </tr>\n",
       "  </tbody>\n",
       "</table>\n",
       "<p>107770 rows × 4 columns</p>\n",
       "</div>"
      ],
      "text/plain": [
       "              data_spec                                    data_spec_value  \\\n",
       "0                  None                                               None   \n",
       "1               nettech                                                      \n",
       "2                 net2g    GSM 850 / 900 / 1800 / 1900 - SIM 1 &amp; SIM 2   \n",
       "3                 net3g                     HSDPA 850 / 900 / 1900 / 2100    \n",
       "4                 net4g                                                LTE   \n",
       "...                 ...                                                ...   \n",
       "109941          sensors  Fingerprint (side-mounted), accelerometer, gyr...   \n",
       "109942  batdescription1                      Li-Po 5100 mAh, non-removable   \n",
       "109943           colors                                      Black, Aurora   \n",
       "109944           models                                              9040N   \n",
       "109945            price                                      About 310 EUR   \n",
       "\n",
       "                                                    model          model_name  \n",
       "0                                                    None                None  \n",
       "1       https://www.gsmarena.com/zte_voyage_40_pro+-12...  ZTE Voyage 40 Pro+  \n",
       "2       https://www.gsmarena.com/zte_voyage_40_pro+-12...  ZTE Voyage 40 Pro+  \n",
       "3       https://www.gsmarena.com/zte_voyage_40_pro+-12...  ZTE Voyage 40 Pro+  \n",
       "4       https://www.gsmarena.com/zte_voyage_40_pro+-12...  ZTE Voyage 40 Pro+  \n",
       "...                                                   ...                 ...  \n",
       "109941  https://www.gsmarena.com/zte_voyage_20_pro-112...   ZTE Voyage 20 Pro  \n",
       "109942  https://www.gsmarena.com/zte_voyage_20_pro-112...   ZTE Voyage 20 Pro  \n",
       "109943  https://www.gsmarena.com/zte_voyage_20_pro-112...   ZTE Voyage 20 Pro  \n",
       "109944  https://www.gsmarena.com/zte_voyage_20_pro-112...   ZTE Voyage 20 Pro  \n",
       "109945  https://www.gsmarena.com/zte_voyage_20_pro-112...   ZTE Voyage 20 Pro  \n",
       "\n",
       "[107770 rows x 4 columns]"
      ]
     },
     "execution_count": 417,
     "metadata": {},
     "output_type": "execute_result"
    }
   ],
   "source": [
    "data_model_raw = data_model_raw.drop_duplicates()\n",
    "data_model_raw"
   ]
  },
  {
   "cell_type": "code",
   "execution_count": 434,
   "id": "21122d7e",
   "metadata": {},
   "outputs": [],
   "source": [
    "data_model_raw = data_model_raw.merge(models_lis_df, left_on='model', right_on='model')"
   ]
  },
  {
   "cell_type": "code",
   "execution_count": 440,
   "id": "85c26140",
   "metadata": {
    "scrolled": false
   },
   "outputs": [],
   "source": [
    "device_features = pd.pivot_table(data_model_raw,\n",
    "               values='data_spec_value',\n",
    "               index=['model', 'model_name','brand','source'],\n",
    "               columns=['data_spec']\n",
    "               ,aggfunc='first'\n",
    "              ).reset_index()"
   ]
  },
  {
   "cell_type": "code",
   "execution_count": 446,
   "id": "2828a81a",
   "metadata": {},
   "outputs": [],
   "source": [
    "device_features = device_features.rename(columns={'model': 'model_url'})\n",
    "device_features = device_features.rename(columns={'data_spec': 'index'})"
   ]
  },
  {
   "cell_type": "code",
   "execution_count": 471,
   "id": "ed723d7b",
   "metadata": {},
   "outputs": [],
   "source": [
    "device_features['price_euro'] = 'NULL'\n",
    "for x in range(len(device_features)):\n",
    "    try:\n",
    "        device_features['price_euro'][x] = device_features['price'][x].split(' ')[1]\n",
    "    except AttributeError:\n",
    "        continue\n",
    "    except IndexError:\n",
    "        continue"
   ]
  },
  {
   "cell_type": "code",
   "execution_count": 478,
   "id": "84880604",
   "metadata": {},
   "outputs": [],
   "source": [
    "device_features['release_year'] = 'NULL'\n",
    "for x in range(len(device_features)):\n",
    "    try:\n",
    "        device_features['release_year'][x] = device_features['year'][x].split(',')[0]\n",
    "    except AttributeError:\n",
    "        continue\n",
    "    except IndexError:\n",
    "        continue"
   ]
  },
  {
   "cell_type": "code",
   "execution_count": 452,
   "id": "7d5dc04d",
   "metadata": {},
   "outputs": [],
   "source": [
    "html_data_model_raw.to_csv('html_data_model_raw.csv')"
   ]
  },
  {
   "cell_type": "code",
   "execution_count": 454,
   "id": "3713aec0",
   "metadata": {},
   "outputs": [],
   "source": [
    "data_model_raw.to_csv('parsed_model_raw.csv')"
   ]
  },
  {
   "cell_type": "code",
   "execution_count": 480,
   "id": "4e3e8f42",
   "metadata": {},
   "outputs": [],
   "source": [
    "device_features.to_csv('device_features.csv')"
   ]
  },
  {
   "cell_type": "markdown",
   "id": "04d7e5f6",
   "metadata": {},
   "source": [
    "# Open every model page and get info from such website: from all other pages"
   ]
  },
  {
   "cell_type": "code",
   "execution_count": 1187,
   "id": "466f3892",
   "metadata": {},
   "outputs": [
    {
     "data": {
      "text/html": [
       "<div>\n",
       "<style scoped>\n",
       "    .dataframe tbody tr th:only-of-type {\n",
       "        vertical-align: middle;\n",
       "    }\n",
       "\n",
       "    .dataframe tbody tr th {\n",
       "        vertical-align: top;\n",
       "    }\n",
       "\n",
       "    .dataframe thead th {\n",
       "        text-align: right;\n",
       "    }\n",
       "</style>\n",
       "<table border=\"1\" class=\"dataframe\">\n",
       "  <thead>\n",
       "    <tr style=\"text-align: right;\">\n",
       "      <th></th>\n",
       "      <th>model</th>\n",
       "      <th>source</th>\n",
       "    </tr>\n",
       "  </thead>\n",
       "  <tbody>\n",
       "    <tr>\n",
       "      <th>0</th>\n",
       "      <td>https://www.gsmarena.com/acer_liquid_e3-6116.php</td>\n",
       "      <td>https://www.gsmarena.com/acer-phones-f-59-0-p2...</td>\n",
       "    </tr>\n",
       "    <tr>\n",
       "      <th>1</th>\n",
       "      <td>https://www.gsmarena.com/acer_liquid_z4-6115.php</td>\n",
       "      <td>https://www.gsmarena.com/acer-phones-f-59-0-p2...</td>\n",
       "    </tr>\n",
       "    <tr>\n",
       "      <th>2</th>\n",
       "      <td>https://www.gsmarena.com/acer_iconia_b1_721-59...</td>\n",
       "      <td>https://www.gsmarena.com/acer-phones-f-59-0-p2...</td>\n",
       "    </tr>\n",
       "    <tr>\n",
       "      <th>3</th>\n",
       "      <td>https://www.gsmarena.com/acer_iconia_b1_720-59...</td>\n",
       "      <td>https://www.gsmarena.com/acer-phones-f-59-0-p2...</td>\n",
       "    </tr>\n",
       "    <tr>\n",
       "      <th>4</th>\n",
       "      <td>https://www.gsmarena.com/acer_iconia_a1_830-59...</td>\n",
       "      <td>https://www.gsmarena.com/acer-phones-f-59-0-p2...</td>\n",
       "    </tr>\n",
       "    <tr>\n",
       "      <th>...</th>\n",
       "      <td>...</td>\n",
       "      <td>...</td>\n",
       "    </tr>\n",
       "    <tr>\n",
       "      <th>8730</th>\n",
       "      <td>https://www.gsmarena.com/ulefone_s1-10036.php</td>\n",
       "      <td>https://www.gsmarena.com/ulefone_-phones-f-124...</td>\n",
       "    </tr>\n",
       "    <tr>\n",
       "      <th>8731</th>\n",
       "      <td>https://www.gsmarena.com/ulefone_armor_x-10037...</td>\n",
       "      <td>https://www.gsmarena.com/ulefone_-phones-f-124...</td>\n",
       "    </tr>\n",
       "    <tr>\n",
       "      <th>8732</th>\n",
       "      <td>https://www.gsmarena.com/ulefone_armor_2-10038...</td>\n",
       "      <td>https://www.gsmarena.com/ulefone_-phones-f-124...</td>\n",
       "    </tr>\n",
       "    <tr>\n",
       "      <th>8733</th>\n",
       "      <td>https://www.gsmarena.com/ulefone_armor_8_5g-10...</td>\n",
       "      <td>https://www.gsmarena.com/ulefone_-phones-f-124...</td>\n",
       "    </tr>\n",
       "    <tr>\n",
       "      <th>8734</th>\n",
       "      <td>https://www.gsmarena.com/ulefone_t2_pro-9103.php</td>\n",
       "      <td>https://www.gsmarena.com/ulefone_-phones-f-124...</td>\n",
       "    </tr>\n",
       "  </tbody>\n",
       "</table>\n",
       "<p>8735 rows × 2 columns</p>\n",
       "</div>"
      ],
      "text/plain": [
       "                                                  model  \\\n",
       "0      https://www.gsmarena.com/acer_liquid_e3-6116.php   \n",
       "1      https://www.gsmarena.com/acer_liquid_z4-6115.php   \n",
       "2     https://www.gsmarena.com/acer_iconia_b1_721-59...   \n",
       "3     https://www.gsmarena.com/acer_iconia_b1_720-59...   \n",
       "4     https://www.gsmarena.com/acer_iconia_a1_830-59...   \n",
       "...                                                 ...   \n",
       "8730      https://www.gsmarena.com/ulefone_s1-10036.php   \n",
       "8731  https://www.gsmarena.com/ulefone_armor_x-10037...   \n",
       "8732  https://www.gsmarena.com/ulefone_armor_2-10038...   \n",
       "8733  https://www.gsmarena.com/ulefone_armor_8_5g-10...   \n",
       "8734   https://www.gsmarena.com/ulefone_t2_pro-9103.php   \n",
       "\n",
       "                                                 source  \n",
       "0     https://www.gsmarena.com/acer-phones-f-59-0-p2...  \n",
       "1     https://www.gsmarena.com/acer-phones-f-59-0-p2...  \n",
       "2     https://www.gsmarena.com/acer-phones-f-59-0-p2...  \n",
       "3     https://www.gsmarena.com/acer-phones-f-59-0-p2...  \n",
       "4     https://www.gsmarena.com/acer-phones-f-59-0-p2...  \n",
       "...                                                 ...  \n",
       "8730  https://www.gsmarena.com/ulefone_-phones-f-124...  \n",
       "8731  https://www.gsmarena.com/ulefone_-phones-f-124...  \n",
       "8732  https://www.gsmarena.com/ulefone_-phones-f-124...  \n",
       "8733  https://www.gsmarena.com/ulefone_-phones-f-124...  \n",
       "8734  https://www.gsmarena.com/ulefone_-phones-f-124...  \n",
       "\n",
       "[8735 rows x 2 columns]"
      ]
     },
     "execution_count": 1187,
     "metadata": {},
     "output_type": "execute_result"
    }
   ],
   "source": [
    "models_lis_df_pag = pd.read_csv(\"models_lis_df_others.csv\")\n",
    "models_lis_df_pag = models_lis_df_pag.drop(columns=['Unnamed: 0'])\n",
    "models_lis_df_pag = models_lis_df_pag.drop_duplicates().reset_index(drop=True)  \n",
    "models_lis_df_pag"
   ]
  },
  {
   "cell_type": "code",
   "execution_count": 1221,
   "id": "c5ba7648",
   "metadata": {},
   "outputs": [],
   "source": [
    "data_model_raw_pag = pd.DataFrame({\n",
    "    'data_spec': [None] ,\n",
    "    'data_spec_value': [None]  ,\n",
    "    'model': [None],\n",
    "    'model_name':[None]\n",
    "})"
   ]
  },
  {
   "cell_type": "code",
   "execution_count": 1222,
   "id": "688fc8ca",
   "metadata": {},
   "outputs": [],
   "source": [
    "html_data_model_raw_pag = pd.DataFrame({\n",
    "    'model': [None],\n",
    "    'html':[None]\n",
    "})"
   ]
  },
  {
   "cell_type": "code",
   "execution_count": 1223,
   "id": "e131904d",
   "metadata": {},
   "outputs": [],
   "source": [
    "# сортировка\n",
    "models_lis_df_pag = models_lis_df_pag.sort_values(by='model', ascending=True, inplace=False, na_position='last')\n",
    "models_lis_df_pag = models_lis_df_pag.reset_index(drop=True)"
   ]
  },
  {
   "cell_type": "code",
   "execution_count": 1224,
   "id": "8ef0e271",
   "metadata": {},
   "outputs": [],
   "source": [
    "# складываем ссылки, которые долго грузились сюда\n",
    "models_list_pag_errors = {'model': []}"
   ]
  },
  {
   "cell_type": "code",
   "execution_count": 1291,
   "id": "2fda1e96",
   "metadata": {
    "scrolled": true
   },
   "outputs": [],
   "source": [
    "for global_index, model_value in enumerate(models_lis_df_pag['model']): #lost_models['model']   # models_list_pag_errors['model']\n",
    "    try: \n",
    "        #подключаемся\n",
    "        r = requests.get(model_value,\n",
    "                         proxies={\n",
    "               \"\",\n",
    "               \"\",\n",
    "        },\n",
    "        verify='' , timeout=30.0)\n",
    "        soup = bs(r.text, \"html.parser\")\n",
    "        print(r.status_code,global_index,model_value)\n",
    "      #  sleep(randint(0,1))\n",
    "    \n",
    "        if r.status_code != 200:\n",
    "            break\n",
    "        else:\n",
    "            #парсим, выкидывая строчки, где падают ошибки - обычно это строчки в которых все поля незаполнены + сохраняем всю страницу на всякий\n",
    "            data_model = soup.find_all('td',\"nfo\",'data-spec')\n",
    "            model_name = soup.find_all('title')\n",
    "            df3= pd.DataFrame( {\n",
    "                             \"model\": [model_value],\n",
    "                             \"html\": str(soup)\n",
    "                            })\n",
    "            html_data_model_raw_pag = html_data_model_raw_pag.append(df3, ignore_index = True)\n",
    "\n",
    "            for index,value in enumerate(data_model):\n",
    "                try:\n",
    "                    df2 = pd.DataFrame( {\n",
    "                             \"data_spec\": [re.search('data-spec=\"(.*)\"', str(value)).group(1).split('\"')[0]],\n",
    "                             \"data_spec_value\":re.search('<td.*>(.*)</td>', str(value)).group(1).split('\"')[0], \n",
    "                             \"model\": model_value,\n",
    "                             \"model_name\": re.search('<title.*>(.*)</title>', str(model_name)).group(1).split(' -')[0] })\n",
    "                    data_model_raw_pag = data_model_raw_pag.append(df2, ignore_index = True)\n",
    "                except AttributeError:\n",
    "                    continue\n",
    "    except requests.Timeout as err:\n",
    "        print(f'🔴 timeout error {model_value} {global_index}. Continuing loop...🔴')\n",
    "        models_list_pag_errors['model'].append(model_value)\n",
    "        continue"
   ]
  },
  {
   "cell_type": "code",
   "execution_count": 1226,
   "id": "5adffca7",
   "metadata": {},
   "outputs": [
    {
     "data": {
      "text/plain": [
       "['https://www.gsmarena.com/nokia_6110_navigator-1861.php']"
      ]
     },
     "execution_count": 1226,
     "metadata": {},
     "output_type": "execute_result"
    }
   ],
   "source": [
    "models_list_pag_errors['model']"
   ]
  },
  {
   "cell_type": "code",
   "execution_count": 315,
   "id": "0cdf2a32",
   "metadata": {},
   "outputs": [
    {
     "data": {
      "text/html": [
       "<div>\n",
       "<style scoped>\n",
       "    .dataframe tbody tr th:only-of-type {\n",
       "        vertical-align: middle;\n",
       "    }\n",
       "\n",
       "    .dataframe tbody tr th {\n",
       "        vertical-align: top;\n",
       "    }\n",
       "\n",
       "    .dataframe thead th {\n",
       "        text-align: right;\n",
       "    }\n",
       "</style>\n",
       "<table border=\"1\" class=\"dataframe\">\n",
       "  <thead>\n",
       "    <tr style=\"text-align: right;\">\n",
       "      <th></th>\n",
       "      <th>model</th>\n",
       "      <th>source</th>\n",
       "    </tr>\n",
       "  </thead>\n",
       "  <tbody>\n",
       "    <tr>\n",
       "      <th>9681</th>\n",
       "      <td>https://www.gsmarena.com/zte_zmax_pro-8096.php</td>\n",
       "      <td>https://www.gsmarena.com/zte-phones-f-62-0-p4.php</td>\n",
       "    </tr>\n",
       "  </tbody>\n",
       "</table>\n",
       "</div>"
      ],
      "text/plain": [
       "                                               model  \\\n",
       "9681  https://www.gsmarena.com/zte_zmax_pro-8096.php   \n",
       "\n",
       "                                                 source  \n",
       "9681  https://www.gsmarena.com/zte-phones-f-62-0-p4.php  "
      ]
     },
     "execution_count": 315,
     "metadata": {},
     "output_type": "execute_result"
    }
   ],
   "source": [
    "models_lis_df[(models_lis_df.model == data_model_raw_pag['model'].iloc[-1])]"
   ]
  },
  {
   "cell_type": "code",
   "execution_count": 1227,
   "id": "6b4be92d",
   "metadata": {},
   "outputs": [
    {
     "data": {
      "text/html": [
       "<div>\n",
       "<style scoped>\n",
       "    .dataframe tbody tr th:only-of-type {\n",
       "        vertical-align: middle;\n",
       "    }\n",
       "\n",
       "    .dataframe tbody tr th {\n",
       "        vertical-align: top;\n",
       "    }\n",
       "\n",
       "    .dataframe thead th {\n",
       "        text-align: right;\n",
       "    }\n",
       "</style>\n",
       "<table border=\"1\" class=\"dataframe\">\n",
       "  <thead>\n",
       "    <tr style=\"text-align: right;\">\n",
       "      <th></th>\n",
       "      <th>data_spec</th>\n",
       "      <th>data_spec_value</th>\n",
       "      <th>model</th>\n",
       "      <th>model_name</th>\n",
       "    </tr>\n",
       "  </thead>\n",
       "  <tbody>\n",
       "    <tr>\n",
       "      <th>0</th>\n",
       "      <td>None</td>\n",
       "      <td>None</td>\n",
       "      <td>None</td>\n",
       "      <td>None</td>\n",
       "    </tr>\n",
       "    <tr>\n",
       "      <th>1</th>\n",
       "      <td>nettech</td>\n",
       "      <td></td>\n",
       "      <td>https://www.gsmarena.com/alcatel_ot_282-4722.php</td>\n",
       "      <td>alcatel OT-282</td>\n",
       "    </tr>\n",
       "    <tr>\n",
       "      <th>2</th>\n",
       "      <td>net2g</td>\n",
       "      <td>GSM 850 / 1900</td>\n",
       "      <td>https://www.gsmarena.com/alcatel_ot_282-4722.php</td>\n",
       "      <td>alcatel OT-282</td>\n",
       "    </tr>\n",
       "    <tr>\n",
       "      <th>3</th>\n",
       "      <td>gprstext</td>\n",
       "      <td>No</td>\n",
       "      <td>https://www.gsmarena.com/alcatel_ot_282-4722.php</td>\n",
       "      <td>alcatel OT-282</td>\n",
       "    </tr>\n",
       "    <tr>\n",
       "      <th>4</th>\n",
       "      <td>edge</td>\n",
       "      <td>No</td>\n",
       "      <td>https://www.gsmarena.com/alcatel_ot_282-4722.php</td>\n",
       "      <td>alcatel OT-282</td>\n",
       "    </tr>\n",
       "    <tr>\n",
       "      <th>...</th>\n",
       "      <td>...</td>\n",
       "      <td>...</td>\n",
       "      <td>...</td>\n",
       "      <td>...</td>\n",
       "    </tr>\n",
       "    <tr>\n",
       "      <th>30134</th>\n",
       "      <td>batstandby1</td>\n",
       "      <td>Up to 300 h</td>\n",
       "      <td>https://www.gsmarena.com/sony_ericsson_k500-84...</td>\n",
       "      <td>Sony Ericsson K500</td>\n",
       "    </tr>\n",
       "    <tr>\n",
       "      <th>30135</th>\n",
       "      <td>battalktime1</td>\n",
       "      <td>Up to 7 h</td>\n",
       "      <td>https://www.gsmarena.com/sony_ericsson_k500-84...</td>\n",
       "      <td>Sony Ericsson K500</td>\n",
       "    </tr>\n",
       "    <tr>\n",
       "      <th>30136</th>\n",
       "      <td>colors</td>\n",
       "      <td>2 - Virtual Silver, Cosmetic Blue</td>\n",
       "      <td>https://www.gsmarena.com/sony_ericsson_k500-84...</td>\n",
       "      <td>Sony Ericsson K500</td>\n",
       "    </tr>\n",
       "    <tr>\n",
       "      <th>30137</th>\n",
       "      <td>sar-us</td>\n",
       "      <td>0.65 W/kg (head)     1.39 W/kg (body)</td>\n",
       "      <td>https://www.gsmarena.com/sony_ericsson_k500-84...</td>\n",
       "      <td>Sony Ericsson K500</td>\n",
       "    </tr>\n",
       "    <tr>\n",
       "      <th>30138</th>\n",
       "      <td>sar-eu</td>\n",
       "      <td>0.53 W/kg (head)</td>\n",
       "      <td>https://www.gsmarena.com/sony_ericsson_k500-84...</td>\n",
       "      <td>Sony Ericsson K500</td>\n",
       "    </tr>\n",
       "  </tbody>\n",
       "</table>\n",
       "<p>30139 rows × 4 columns</p>\n",
       "</div>"
      ],
      "text/plain": [
       "          data_spec                             data_spec_value  \\\n",
       "0              None                                        None   \n",
       "1           nettech                                               \n",
       "2             net2g                             GSM 850 / 1900    \n",
       "3          gprstext                                          No   \n",
       "4              edge                                          No   \n",
       "...             ...                                         ...   \n",
       "30134   batstandby1                                 Up to 300 h   \n",
       "30135  battalktime1                                   Up to 7 h   \n",
       "30136        colors           2 - Virtual Silver, Cosmetic Blue   \n",
       "30137        sar-us  0.65 W/kg (head)     1.39 W/kg (body)        \n",
       "30138        sar-eu                       0.53 W/kg (head)        \n",
       "\n",
       "                                                   model          model_name  \n",
       "0                                                   None                None  \n",
       "1       https://www.gsmarena.com/alcatel_ot_282-4722.php      alcatel OT-282  \n",
       "2       https://www.gsmarena.com/alcatel_ot_282-4722.php      alcatel OT-282  \n",
       "3       https://www.gsmarena.com/alcatel_ot_282-4722.php      alcatel OT-282  \n",
       "4       https://www.gsmarena.com/alcatel_ot_282-4722.php      alcatel OT-282  \n",
       "...                                                  ...                 ...  \n",
       "30134  https://www.gsmarena.com/sony_ericsson_k500-84...  Sony Ericsson K500  \n",
       "30135  https://www.gsmarena.com/sony_ericsson_k500-84...  Sony Ericsson K500  \n",
       "30136  https://www.gsmarena.com/sony_ericsson_k500-84...  Sony Ericsson K500  \n",
       "30137  https://www.gsmarena.com/sony_ericsson_k500-84...  Sony Ericsson K500  \n",
       "30138  https://www.gsmarena.com/sony_ericsson_k500-84...  Sony Ericsson K500  \n",
       "\n",
       "[30139 rows x 4 columns]"
      ]
     },
     "execution_count": 1227,
     "metadata": {},
     "output_type": "execute_result"
    }
   ],
   "source": [
    "data_model_raw_pag"
   ]
  },
  {
   "cell_type": "code",
   "execution_count": 1228,
   "id": "4a5dbaec",
   "metadata": {},
   "outputs": [
    {
     "data": {
      "text/html": [
       "<div>\n",
       "<style scoped>\n",
       "    .dataframe tbody tr th:only-of-type {\n",
       "        vertical-align: middle;\n",
       "    }\n",
       "\n",
       "    .dataframe tbody tr th {\n",
       "        vertical-align: top;\n",
       "    }\n",
       "\n",
       "    .dataframe thead th {\n",
       "        text-align: right;\n",
       "    }\n",
       "</style>\n",
       "<table border=\"1\" class=\"dataframe\">\n",
       "  <thead>\n",
       "    <tr style=\"text-align: right;\">\n",
       "      <th></th>\n",
       "      <th>data_spec</th>\n",
       "      <th>data_spec_value</th>\n",
       "      <th>model</th>\n",
       "      <th>model_name</th>\n",
       "    </tr>\n",
       "  </thead>\n",
       "  <tbody>\n",
       "    <tr>\n",
       "      <th>0</th>\n",
       "      <td>None</td>\n",
       "      <td>None</td>\n",
       "      <td>None</td>\n",
       "      <td>None</td>\n",
       "    </tr>\n",
       "    <tr>\n",
       "      <th>1</th>\n",
       "      <td>nettech</td>\n",
       "      <td></td>\n",
       "      <td>https://www.gsmarena.com/alcatel_ot_282-4722.php</td>\n",
       "      <td>alcatel OT-282</td>\n",
       "    </tr>\n",
       "    <tr>\n",
       "      <th>2</th>\n",
       "      <td>net2g</td>\n",
       "      <td>GSM 850 / 1900</td>\n",
       "      <td>https://www.gsmarena.com/alcatel_ot_282-4722.php</td>\n",
       "      <td>alcatel OT-282</td>\n",
       "    </tr>\n",
       "    <tr>\n",
       "      <th>3</th>\n",
       "      <td>gprstext</td>\n",
       "      <td>No</td>\n",
       "      <td>https://www.gsmarena.com/alcatel_ot_282-4722.php</td>\n",
       "      <td>alcatel OT-282</td>\n",
       "    </tr>\n",
       "    <tr>\n",
       "      <th>4</th>\n",
       "      <td>edge</td>\n",
       "      <td>No</td>\n",
       "      <td>https://www.gsmarena.com/alcatel_ot_282-4722.php</td>\n",
       "      <td>alcatel OT-282</td>\n",
       "    </tr>\n",
       "    <tr>\n",
       "      <th>...</th>\n",
       "      <td>...</td>\n",
       "      <td>...</td>\n",
       "      <td>...</td>\n",
       "      <td>...</td>\n",
       "    </tr>\n",
       "    <tr>\n",
       "      <th>30134</th>\n",
       "      <td>batstandby1</td>\n",
       "      <td>Up to 300 h</td>\n",
       "      <td>https://www.gsmarena.com/sony_ericsson_k500-84...</td>\n",
       "      <td>Sony Ericsson K500</td>\n",
       "    </tr>\n",
       "    <tr>\n",
       "      <th>30135</th>\n",
       "      <td>battalktime1</td>\n",
       "      <td>Up to 7 h</td>\n",
       "      <td>https://www.gsmarena.com/sony_ericsson_k500-84...</td>\n",
       "      <td>Sony Ericsson K500</td>\n",
       "    </tr>\n",
       "    <tr>\n",
       "      <th>30136</th>\n",
       "      <td>colors</td>\n",
       "      <td>2 - Virtual Silver, Cosmetic Blue</td>\n",
       "      <td>https://www.gsmarena.com/sony_ericsson_k500-84...</td>\n",
       "      <td>Sony Ericsson K500</td>\n",
       "    </tr>\n",
       "    <tr>\n",
       "      <th>30137</th>\n",
       "      <td>sar-us</td>\n",
       "      <td>0.65 W/kg (head)     1.39 W/kg (body)</td>\n",
       "      <td>https://www.gsmarena.com/sony_ericsson_k500-84...</td>\n",
       "      <td>Sony Ericsson K500</td>\n",
       "    </tr>\n",
       "    <tr>\n",
       "      <th>30138</th>\n",
       "      <td>sar-eu</td>\n",
       "      <td>0.53 W/kg (head)</td>\n",
       "      <td>https://www.gsmarena.com/sony_ericsson_k500-84...</td>\n",
       "      <td>Sony Ericsson K500</td>\n",
       "    </tr>\n",
       "  </tbody>\n",
       "</table>\n",
       "<p>30139 rows × 4 columns</p>\n",
       "</div>"
      ],
      "text/plain": [
       "          data_spec                             data_spec_value  \\\n",
       "0              None                                        None   \n",
       "1           nettech                                               \n",
       "2             net2g                             GSM 850 / 1900    \n",
       "3          gprstext                                          No   \n",
       "4              edge                                          No   \n",
       "...             ...                                         ...   \n",
       "30134   batstandby1                                 Up to 300 h   \n",
       "30135  battalktime1                                   Up to 7 h   \n",
       "30136        colors           2 - Virtual Silver, Cosmetic Blue   \n",
       "30137        sar-us  0.65 W/kg (head)     1.39 W/kg (body)        \n",
       "30138        sar-eu                       0.53 W/kg (head)        \n",
       "\n",
       "                                                   model          model_name  \n",
       "0                                                   None                None  \n",
       "1       https://www.gsmarena.com/alcatel_ot_282-4722.php      alcatel OT-282  \n",
       "2       https://www.gsmarena.com/alcatel_ot_282-4722.php      alcatel OT-282  \n",
       "3       https://www.gsmarena.com/alcatel_ot_282-4722.php      alcatel OT-282  \n",
       "4       https://www.gsmarena.com/alcatel_ot_282-4722.php      alcatel OT-282  \n",
       "...                                                  ...                 ...  \n",
       "30134  https://www.gsmarena.com/sony_ericsson_k500-84...  Sony Ericsson K500  \n",
       "30135  https://www.gsmarena.com/sony_ericsson_k500-84...  Sony Ericsson K500  \n",
       "30136  https://www.gsmarena.com/sony_ericsson_k500-84...  Sony Ericsson K500  \n",
       "30137  https://www.gsmarena.com/sony_ericsson_k500-84...  Sony Ericsson K500  \n",
       "30138  https://www.gsmarena.com/sony_ericsson_k500-84...  Sony Ericsson K500  \n",
       "\n",
       "[30139 rows x 4 columns]"
      ]
     },
     "execution_count": 1228,
     "metadata": {},
     "output_type": "execute_result"
    }
   ],
   "source": [
    "data_model_raw_pag = data_model_raw_pag.drop_duplicates(subset=['model_name', 'model','data_spec_value','data_spec'])\n",
    "data_model_raw_pag"
   ]
  },
  {
   "cell_type": "code",
   "execution_count": 1230,
   "id": "1cbe8c32",
   "metadata": {},
   "outputs": [
    {
     "data": {
      "text/html": [
       "<div>\n",
       "<style scoped>\n",
       "    .dataframe tbody tr th:only-of-type {\n",
       "        vertical-align: middle;\n",
       "    }\n",
       "\n",
       "    .dataframe tbody tr th {\n",
       "        vertical-align: top;\n",
       "    }\n",
       "\n",
       "    .dataframe thead th {\n",
       "        text-align: right;\n",
       "    }\n",
       "</style>\n",
       "<table border=\"1\" class=\"dataframe\">\n",
       "  <thead>\n",
       "    <tr style=\"text-align: right;\">\n",
       "      <th></th>\n",
       "      <th>data_spec</th>\n",
       "      <th>data_spec_value</th>\n",
       "      <th>model</th>\n",
       "      <th>model_name</th>\n",
       "      <th>source_x</th>\n",
       "      <th>test_x</th>\n",
       "      <th>source_y</th>\n",
       "      <th>test_y</th>\n",
       "    </tr>\n",
       "  </thead>\n",
       "  <tbody>\n",
       "    <tr>\n",
       "      <th>0</th>\n",
       "      <td>nettech</td>\n",
       "      <td></td>\n",
       "      <td>https://www.gsmarena.com/alcatel_ot_282-4722.php</td>\n",
       "      <td>alcatel OT-282</td>\n",
       "      <td>https://www.gsmarena.com/alcatel-phones-f-5-0-...</td>\n",
       "      <td>0</td>\n",
       "      <td>https://www.gsmarena.com/alcatel-phones-f-5-0-...</td>\n",
       "      <td>0</td>\n",
       "    </tr>\n",
       "    <tr>\n",
       "      <th>1</th>\n",
       "      <td>net2g</td>\n",
       "      <td>GSM 850 / 1900</td>\n",
       "      <td>https://www.gsmarena.com/alcatel_ot_282-4722.php</td>\n",
       "      <td>alcatel OT-282</td>\n",
       "      <td>https://www.gsmarena.com/alcatel-phones-f-5-0-...</td>\n",
       "      <td>0</td>\n",
       "      <td>https://www.gsmarena.com/alcatel-phones-f-5-0-...</td>\n",
       "      <td>0</td>\n",
       "    </tr>\n",
       "    <tr>\n",
       "      <th>2</th>\n",
       "      <td>gprstext</td>\n",
       "      <td>No</td>\n",
       "      <td>https://www.gsmarena.com/alcatel_ot_282-4722.php</td>\n",
       "      <td>alcatel OT-282</td>\n",
       "      <td>https://www.gsmarena.com/alcatel-phones-f-5-0-...</td>\n",
       "      <td>0</td>\n",
       "      <td>https://www.gsmarena.com/alcatel-phones-f-5-0-...</td>\n",
       "      <td>0</td>\n",
       "    </tr>\n",
       "    <tr>\n",
       "      <th>3</th>\n",
       "      <td>edge</td>\n",
       "      <td>No</td>\n",
       "      <td>https://www.gsmarena.com/alcatel_ot_282-4722.php</td>\n",
       "      <td>alcatel OT-282</td>\n",
       "      <td>https://www.gsmarena.com/alcatel-phones-f-5-0-...</td>\n",
       "      <td>0</td>\n",
       "      <td>https://www.gsmarena.com/alcatel-phones-f-5-0-...</td>\n",
       "      <td>0</td>\n",
       "    </tr>\n",
       "    <tr>\n",
       "      <th>4</th>\n",
       "      <td>year</td>\n",
       "      <td>2011, December. Released 2011, December</td>\n",
       "      <td>https://www.gsmarena.com/alcatel_ot_282-4722.php</td>\n",
       "      <td>alcatel OT-282</td>\n",
       "      <td>https://www.gsmarena.com/alcatel-phones-f-5-0-...</td>\n",
       "      <td>0</td>\n",
       "      <td>https://www.gsmarena.com/alcatel-phones-f-5-0-...</td>\n",
       "      <td>0</td>\n",
       "    </tr>\n",
       "    <tr>\n",
       "      <th>...</th>\n",
       "      <td>...</td>\n",
       "      <td>...</td>\n",
       "      <td>...</td>\n",
       "      <td>...</td>\n",
       "      <td>...</td>\n",
       "      <td>...</td>\n",
       "      <td>...</td>\n",
       "      <td>...</td>\n",
       "    </tr>\n",
       "    <tr>\n",
       "      <th>30133</th>\n",
       "      <td>batstandby1</td>\n",
       "      <td>Up to 300 h</td>\n",
       "      <td>https://www.gsmarena.com/sony_ericsson_k500-84...</td>\n",
       "      <td>Sony Ericsson K500</td>\n",
       "      <td>https://www.gsmarena.com/sony_ericsson-phones-...</td>\n",
       "      <td>0</td>\n",
       "      <td>https://www.gsmarena.com/sony_ericsson-phones-...</td>\n",
       "      <td>0</td>\n",
       "    </tr>\n",
       "    <tr>\n",
       "      <th>30134</th>\n",
       "      <td>battalktime1</td>\n",
       "      <td>Up to 7 h</td>\n",
       "      <td>https://www.gsmarena.com/sony_ericsson_k500-84...</td>\n",
       "      <td>Sony Ericsson K500</td>\n",
       "      <td>https://www.gsmarena.com/sony_ericsson-phones-...</td>\n",
       "      <td>0</td>\n",
       "      <td>https://www.gsmarena.com/sony_ericsson-phones-...</td>\n",
       "      <td>0</td>\n",
       "    </tr>\n",
       "    <tr>\n",
       "      <th>30135</th>\n",
       "      <td>colors</td>\n",
       "      <td>2 - Virtual Silver, Cosmetic Blue</td>\n",
       "      <td>https://www.gsmarena.com/sony_ericsson_k500-84...</td>\n",
       "      <td>Sony Ericsson K500</td>\n",
       "      <td>https://www.gsmarena.com/sony_ericsson-phones-...</td>\n",
       "      <td>0</td>\n",
       "      <td>https://www.gsmarena.com/sony_ericsson-phones-...</td>\n",
       "      <td>0</td>\n",
       "    </tr>\n",
       "    <tr>\n",
       "      <th>30136</th>\n",
       "      <td>sar-us</td>\n",
       "      <td>0.65 W/kg (head)     1.39 W/kg (body)</td>\n",
       "      <td>https://www.gsmarena.com/sony_ericsson_k500-84...</td>\n",
       "      <td>Sony Ericsson K500</td>\n",
       "      <td>https://www.gsmarena.com/sony_ericsson-phones-...</td>\n",
       "      <td>0</td>\n",
       "      <td>https://www.gsmarena.com/sony_ericsson-phones-...</td>\n",
       "      <td>0</td>\n",
       "    </tr>\n",
       "    <tr>\n",
       "      <th>30137</th>\n",
       "      <td>sar-eu</td>\n",
       "      <td>0.53 W/kg (head)</td>\n",
       "      <td>https://www.gsmarena.com/sony_ericsson_k500-84...</td>\n",
       "      <td>Sony Ericsson K500</td>\n",
       "      <td>https://www.gsmarena.com/sony_ericsson-phones-...</td>\n",
       "      <td>0</td>\n",
       "      <td>https://www.gsmarena.com/sony_ericsson-phones-...</td>\n",
       "      <td>0</td>\n",
       "    </tr>\n",
       "  </tbody>\n",
       "</table>\n",
       "<p>30138 rows × 8 columns</p>\n",
       "</div>"
      ],
      "text/plain": [
       "          data_spec                             data_spec_value  \\\n",
       "0           nettech                                               \n",
       "1             net2g                             GSM 850 / 1900    \n",
       "2          gprstext                                          No   \n",
       "3              edge                                          No   \n",
       "4              year     2011, December. Released 2011, December   \n",
       "...             ...                                         ...   \n",
       "30133   batstandby1                                 Up to 300 h   \n",
       "30134  battalktime1                                   Up to 7 h   \n",
       "30135        colors           2 - Virtual Silver, Cosmetic Blue   \n",
       "30136        sar-us  0.65 W/kg (head)     1.39 W/kg (body)        \n",
       "30137        sar-eu                       0.53 W/kg (head)        \n",
       "\n",
       "                                                   model          model_name  \\\n",
       "0       https://www.gsmarena.com/alcatel_ot_282-4722.php      alcatel OT-282   \n",
       "1       https://www.gsmarena.com/alcatel_ot_282-4722.php      alcatel OT-282   \n",
       "2       https://www.gsmarena.com/alcatel_ot_282-4722.php      alcatel OT-282   \n",
       "3       https://www.gsmarena.com/alcatel_ot_282-4722.php      alcatel OT-282   \n",
       "4       https://www.gsmarena.com/alcatel_ot_282-4722.php      alcatel OT-282   \n",
       "...                                                  ...                 ...   \n",
       "30133  https://www.gsmarena.com/sony_ericsson_k500-84...  Sony Ericsson K500   \n",
       "30134  https://www.gsmarena.com/sony_ericsson_k500-84...  Sony Ericsson K500   \n",
       "30135  https://www.gsmarena.com/sony_ericsson_k500-84...  Sony Ericsson K500   \n",
       "30136  https://www.gsmarena.com/sony_ericsson_k500-84...  Sony Ericsson K500   \n",
       "30137  https://www.gsmarena.com/sony_ericsson_k500-84...  Sony Ericsson K500   \n",
       "\n",
       "                                                source_x  test_x  \\\n",
       "0      https://www.gsmarena.com/alcatel-phones-f-5-0-...       0   \n",
       "1      https://www.gsmarena.com/alcatel-phones-f-5-0-...       0   \n",
       "2      https://www.gsmarena.com/alcatel-phones-f-5-0-...       0   \n",
       "3      https://www.gsmarena.com/alcatel-phones-f-5-0-...       0   \n",
       "4      https://www.gsmarena.com/alcatel-phones-f-5-0-...       0   \n",
       "...                                                  ...     ...   \n",
       "30133  https://www.gsmarena.com/sony_ericsson-phones-...       0   \n",
       "30134  https://www.gsmarena.com/sony_ericsson-phones-...       0   \n",
       "30135  https://www.gsmarena.com/sony_ericsson-phones-...       0   \n",
       "30136  https://www.gsmarena.com/sony_ericsson-phones-...       0   \n",
       "30137  https://www.gsmarena.com/sony_ericsson-phones-...       0   \n",
       "\n",
       "                                                source_y  test_y  \n",
       "0      https://www.gsmarena.com/alcatel-phones-f-5-0-...       0  \n",
       "1      https://www.gsmarena.com/alcatel-phones-f-5-0-...       0  \n",
       "2      https://www.gsmarena.com/alcatel-phones-f-5-0-...       0  \n",
       "3      https://www.gsmarena.com/alcatel-phones-f-5-0-...       0  \n",
       "4      https://www.gsmarena.com/alcatel-phones-f-5-0-...       0  \n",
       "...                                                  ...     ...  \n",
       "30133  https://www.gsmarena.com/sony_ericsson-phones-...       0  \n",
       "30134  https://www.gsmarena.com/sony_ericsson-phones-...       0  \n",
       "30135  https://www.gsmarena.com/sony_ericsson-phones-...       0  \n",
       "30136  https://www.gsmarena.com/sony_ericsson-phones-...       0  \n",
       "30137  https://www.gsmarena.com/sony_ericsson-phones-...       0  \n",
       "\n",
       "[30138 rows x 8 columns]"
      ]
     },
     "execution_count": 1230,
     "metadata": {},
     "output_type": "execute_result"
    }
   ],
   "source": [
    "data_model_raw_pag = data_model_raw_pag.merge(models_lis_df_pag, left_on='model', right_on='model')\n",
    "data_model_raw_pag"
   ]
  },
  {
   "cell_type": "code",
   "execution_count": 1231,
   "id": "56ef0639",
   "metadata": {},
   "outputs": [],
   "source": [
    "device_features = pd.pivot_table(data_model_raw_pag,\n",
    "               values='data_spec_value',\n",
    "               index=['model', 'model_name'],\n",
    "               columns=['data_spec']\n",
    "               ,aggfunc='first'\n",
    "              ).reset_index()"
   ]
  },
  {
   "cell_type": "code",
   "execution_count": 1232,
   "id": "37e47dcb",
   "metadata": {},
   "outputs": [],
   "source": [
    "device_features = device_features.rename(columns={'model': 'model_url'})\n",
    "device_features = device_features.rename(columns={'data_spec': 'index'})"
   ]
  },
  {
   "cell_type": "code",
   "execution_count": 1233,
   "id": "ada43a35",
   "metadata": {},
   "outputs": [],
   "source": [
    "device_features['price_euro'] = 'NULL'\n",
    "for x in range(len(device_features)):\n",
    "    try:\n",
    "        device_features['price_euro'][x] = device_features['price'][x].split(' ')[1]\n",
    "    except AttributeError:\n",
    "        continue\n",
    "    except IndexError:\n",
    "        continue"
   ]
  },
  {
   "cell_type": "code",
   "execution_count": 1234,
   "id": "086cdcf3",
   "metadata": {},
   "outputs": [],
   "source": [
    "device_features['release_year'] = 'NULL'\n",
    "for x in range(len(device_features)):\n",
    "    try:\n",
    "        device_features['release_year'][x] = device_features['year'][x].split(',')[0]\n",
    "    except AttributeError:\n",
    "        continue\n",
    "    except IndexError:\n",
    "        continue"
   ]
  },
  {
   "cell_type": "code",
   "execution_count": 1241,
   "id": "7be9ca86",
   "metadata": {},
   "outputs": [
    {
     "data": {
      "text/html": [
       "<div>\n",
       "<style scoped>\n",
       "    .dataframe tbody tr th:only-of-type {\n",
       "        vertical-align: middle;\n",
       "    }\n",
       "\n",
       "    .dataframe tbody tr th {\n",
       "        vertical-align: top;\n",
       "    }\n",
       "\n",
       "    .dataframe thead th {\n",
       "        text-align: right;\n",
       "    }\n",
       "</style>\n",
       "<table border=\"1\" class=\"dataframe\">\n",
       "  <thead>\n",
       "    <tr style=\"text-align: right;\">\n",
       "      <th></th>\n",
       "      <th>model</th>\n",
       "      <th>html</th>\n",
       "    </tr>\n",
       "  </thead>\n",
       "  <tbody>\n",
       "    <tr>\n",
       "      <th>0</th>\n",
       "      <td>None</td>\n",
       "      <td>None</td>\n",
       "    </tr>\n",
       "    <tr>\n",
       "      <th>1</th>\n",
       "      <td>https://www.gsmarena.com/alcatel_ot_282-4722.php</td>\n",
       "      <td>&lt;!DOCTYPE html&gt;\\n\\n&lt;html lang=\"en-US\" xml:lang...</td>\n",
       "    </tr>\n",
       "    <tr>\n",
       "      <th>2</th>\n",
       "      <td>https://www.gsmarena.com/alcatel_ot_292-4721.php</td>\n",
       "      <td>&lt;!DOCTYPE html&gt;\\n\\n&lt;html lang=\"en-US\" xml:lang...</td>\n",
       "    </tr>\n",
       "    <tr>\n",
       "      <th>3</th>\n",
       "      <td>https://www.gsmarena.com/alcatel_ot_228-4720.php</td>\n",
       "      <td>&lt;!DOCTYPE html&gt;\\n\\n&lt;html lang=\"en-US\" xml:lang...</td>\n",
       "    </tr>\n",
       "    <tr>\n",
       "      <th>4</th>\n",
       "      <td>https://www.gsmarena.com/alcatel_ot_223-3813.php</td>\n",
       "      <td>&lt;!DOCTYPE html&gt;\\n\\n&lt;html lang=\"en-US\" xml:lang...</td>\n",
       "    </tr>\n",
       "    <tr>\n",
       "      <th>...</th>\n",
       "      <td>...</td>\n",
       "      <td>...</td>\n",
       "    </tr>\n",
       "    <tr>\n",
       "      <th>952</th>\n",
       "      <td>https://www.gsmarena.com/sony_ericsson_k610-14...</td>\n",
       "      <td>&lt;!DOCTYPE html&gt;\\n\\n&lt;html lang=\"en-US\" xml:lang...</td>\n",
       "    </tr>\n",
       "    <tr>\n",
       "      <th>953</th>\n",
       "      <td>https://www.gsmarena.com/sony_ericsson_k608-12...</td>\n",
       "      <td>&lt;!DOCTYPE html&gt;\\n\\n&lt;html lang=\"en-US\" xml:lang...</td>\n",
       "    </tr>\n",
       "    <tr>\n",
       "      <th>954</th>\n",
       "      <td>https://www.gsmarena.com/sony_ericsson_k600-10...</td>\n",
       "      <td>&lt;!DOCTYPE html&gt;\\n\\n&lt;html lang=\"en-US\" xml:lang...</td>\n",
       "    </tr>\n",
       "    <tr>\n",
       "      <th>955</th>\n",
       "      <td>https://www.gsmarena.com/sony_ericsson_k508-11...</td>\n",
       "      <td>&lt;!DOCTYPE html&gt;\\n\\n&lt;html lang=\"en-US\" xml:lang...</td>\n",
       "    </tr>\n",
       "    <tr>\n",
       "      <th>956</th>\n",
       "      <td>https://www.gsmarena.com/sony_ericsson_k500-84...</td>\n",
       "      <td>&lt;!DOCTYPE html&gt;\\n\\n&lt;html lang=\"en-US\" xml:lang...</td>\n",
       "    </tr>\n",
       "  </tbody>\n",
       "</table>\n",
       "<p>957 rows × 2 columns</p>\n",
       "</div>"
      ],
      "text/plain": [
       "                                                 model  \\\n",
       "0                                                 None   \n",
       "1     https://www.gsmarena.com/alcatel_ot_282-4722.php   \n",
       "2     https://www.gsmarena.com/alcatel_ot_292-4721.php   \n",
       "3     https://www.gsmarena.com/alcatel_ot_228-4720.php   \n",
       "4     https://www.gsmarena.com/alcatel_ot_223-3813.php   \n",
       "..                                                 ...   \n",
       "952  https://www.gsmarena.com/sony_ericsson_k610-14...   \n",
       "953  https://www.gsmarena.com/sony_ericsson_k608-12...   \n",
       "954  https://www.gsmarena.com/sony_ericsson_k600-10...   \n",
       "955  https://www.gsmarena.com/sony_ericsson_k508-11...   \n",
       "956  https://www.gsmarena.com/sony_ericsson_k500-84...   \n",
       "\n",
       "                                                  html  \n",
       "0                                                 None  \n",
       "1    <!DOCTYPE html>\\n\\n<html lang=\"en-US\" xml:lang...  \n",
       "2    <!DOCTYPE html>\\n\\n<html lang=\"en-US\" xml:lang...  \n",
       "3    <!DOCTYPE html>\\n\\n<html lang=\"en-US\" xml:lang...  \n",
       "4    <!DOCTYPE html>\\n\\n<html lang=\"en-US\" xml:lang...  \n",
       "..                                                 ...  \n",
       "952  <!DOCTYPE html>\\n\\n<html lang=\"en-US\" xml:lang...  \n",
       "953  <!DOCTYPE html>\\n\\n<html lang=\"en-US\" xml:lang...  \n",
       "954  <!DOCTYPE html>\\n\\n<html lang=\"en-US\" xml:lang...  \n",
       "955  <!DOCTYPE html>\\n\\n<html lang=\"en-US\" xml:lang...  \n",
       "956  <!DOCTYPE html>\\n\\n<html lang=\"en-US\" xml:lang...  \n",
       "\n",
       "[957 rows x 2 columns]"
      ]
     },
     "execution_count": 1241,
     "metadata": {},
     "output_type": "execute_result"
    }
   ],
   "source": [
    "html_data_model_raw_pag"
   ]
  },
  {
   "cell_type": "code",
   "execution_count": 1239,
   "id": "e53335f9",
   "metadata": {},
   "outputs": [],
   "source": [
    "device_features.to_csv('device_features_pag_lost.csv')"
   ]
  },
  {
   "cell_type": "code",
   "execution_count": 1243,
   "id": "324215cd",
   "metadata": {},
   "outputs": [],
   "source": [
    "html_data_model_raw_pag.to_csv('html_data_model_raw_pag_lost.csv')"
   ]
  },
  {
   "cell_type": "code",
   "execution_count": 1240,
   "id": "8069a97c",
   "metadata": {},
   "outputs": [],
   "source": [
    "device_features_pag_lost = device_features"
   ]
  },
  {
   "cell_type": "code",
   "execution_count": 334,
   "id": "7f807357",
   "metadata": {},
   "outputs": [],
   "source": [
    "# html_data_model_raw_pag.to_csv('html_data_model_raw_pag.csv')"
   ]
  },
  {
   "cell_type": "code",
   "execution_count": 335,
   "id": "febade61",
   "metadata": {},
   "outputs": [],
   "source": [
    "# data_model_raw_pag.to_csv('parsed_model_raw_pag.csv')"
   ]
  },
  {
   "cell_type": "code",
   "execution_count": 337,
   "id": "92462cb1",
   "metadata": {},
   "outputs": [],
   "source": [
    "# device_features.to_csv('device_features_pag.csv')"
   ]
  },
  {
   "cell_type": "code",
   "execution_count": 1281,
   "id": "5645f59c",
   "metadata": {},
   "outputs": [],
   "source": [
    "# html_data_model_raw_all = pd.read_csv('html_data_model_raw_all.csv')"
   ]
  },
  {
   "cell_type": "code",
   "execution_count": 1282,
   "id": "e16b59f4",
   "metadata": {},
   "outputs": [
    {
     "name": "stderr",
     "output_type": "stream",
     "text": [
      "/var/folders/vt/7dt72kxx6033ddhgydwhpq5w0000gn/T/ipykernel_90896/1674389282.py:1: FutureWarning: The frame.append method is deprecated and will be removed from pandas in a future version. Use pandas.concat instead.\n",
      "  html_data_model_raw_all  = html_data_model_raw.append(html_data_model_raw_pag_lost)\n"
     ]
    }
   ],
   "source": [
    "# html_data_model_raw_all  = html_data_model_raw.append(html_data_model_raw_pag_lost)"
   ]
  },
  {
   "cell_type": "code",
   "execution_count": 1283,
   "id": "300286a2",
   "metadata": {},
   "outputs": [],
   "source": [
    "# html_data_model_raw_all = pd.read_csv(\"html_data_model_raw_all.csv\")"
   ]
  },
  {
   "cell_type": "markdown",
   "id": "61266ae7",
   "metadata": {},
   "source": [
    "# Join 1st page and others"
   ]
  },
  {
   "cell_type": "code",
   "execution_count": 338,
   "id": "481c1c47",
   "metadata": {},
   "outputs": [],
   "source": [
    "# device_features = pd.read_csv(\"device_features.csv\")"
   ]
  },
  {
   "cell_type": "code",
   "execution_count": 1137,
   "id": "58ca87ec",
   "metadata": {},
   "outputs": [],
   "source": [
    "# data_model_raw = pd.read_csv(\"parsed_model_raw.csv\")"
   ]
  },
  {
   "cell_type": "code",
   "execution_count": 341,
   "id": "8457c45c",
   "metadata": {},
   "outputs": [],
   "source": [
    "# device_features_pag = pd.read_csv(\"device_features_pag.csv\")"
   ]
  },
  {
   "cell_type": "code",
   "execution_count": 1280,
   "id": "7295f2fc",
   "metadata": {},
   "outputs": [],
   "source": [
    "# html_data_model_raw_pag = pd.read_csv('html_data_model_raw_pag.csv')"
   ]
  },
  {
   "cell_type": "code",
   "execution_count": 356,
   "id": "2b37fe05",
   "metadata": {},
   "outputs": [],
   "source": [
    "# html_data_model_raw = pd.read_csv('html_data_model_raw.csv')"
   ]
  },
  {
   "cell_type": "code",
   "execution_count": 342,
   "id": "80fdaf6d",
   "metadata": {},
   "outputs": [
    {
     "name": "stderr",
     "output_type": "stream",
     "text": [
      "/var/folders/vt/7dt72kxx6033ddhgydwhpq5w0000gn/T/ipykernel_90896/1232211332.py:1: FutureWarning: The frame.append method is deprecated and will be removed from pandas in a future version. Use pandas.concat instead.\n",
      "  device_features_all = device_features.append(device_features_pag)\n"
     ]
    }
   ],
   "source": [
    "# device_features_all = device_features.append(device_features_pag)"
   ]
  },
  {
   "cell_type": "code",
   "execution_count": 343,
   "id": "79613e9c",
   "metadata": {},
   "outputs": [
    {
     "name": "stderr",
     "output_type": "stream",
     "text": [
      "/var/folders/vt/7dt72kxx6033ddhgydwhpq5w0000gn/T/ipykernel_90896/656942462.py:1: FutureWarning: The frame.append method is deprecated and will be removed from pandas in a future version. Use pandas.concat instead.\n",
      "  data_model_raw_all  = data_model_raw.append(data_model_raw_pag)\n"
     ]
    }
   ],
   "source": [
    "# data_model_raw_all  = data_model_raw.append(data_model_raw_pag)"
   ]
  },
  {
   "cell_type": "code",
   "execution_count": 357,
   "id": "3b97e46f",
   "metadata": {},
   "outputs": [
    {
     "name": "stderr",
     "output_type": "stream",
     "text": [
      "/var/folders/vt/7dt72kxx6033ddhgydwhpq5w0000gn/T/ipykernel_90896/546757857.py:1: FutureWarning: The frame.append method is deprecated and will be removed from pandas in a future version. Use pandas.concat instead.\n",
      "  html_data_model_raw_all  = html_data_model_raw.append(html_data_model_raw_pag)\n"
     ]
    }
   ],
   "source": [
    "# html_data_model_raw_all  = html_data_model_raw.append(html_data_model_raw_pag)"
   ]
  },
  {
   "cell_type": "code",
   "execution_count": 346,
   "id": "0bf0f76b",
   "metadata": {},
   "outputs": [],
   "source": [
    "device_features_all.to_csv('device_features_all.csv')"
   ]
  },
  {
   "cell_type": "code",
   "execution_count": 347,
   "id": "585353e8",
   "metadata": {},
   "outputs": [],
   "source": [
    "data_model_raw_all.to_csv('data_model_raw_all.csv')"
   ]
  },
  {
   "cell_type": "code",
   "execution_count": 358,
   "id": "55c868a5",
   "metadata": {},
   "outputs": [],
   "source": [
    "html_data_model_raw_all.to_csv('html_data_model_raw_all.csv')"
   ]
  },
  {
   "cell_type": "code",
   "execution_count": 1008,
   "id": "6f3bc8fc",
   "metadata": {},
   "outputs": [],
   "source": [
    "html_data_model_raw_all = pd.read_csv('html_data_model_raw_all.csv')\n",
    "html_data_model_raw_all = html_data_model_raw_all.drop_duplicates()"
   ]
  },
  {
   "cell_type": "code",
   "execution_count": 1184,
   "id": "f680769c",
   "metadata": {},
   "outputs": [
    {
     "name": "stderr",
     "output_type": "stream",
     "text": [
      "/var/folders/vt/7dt72kxx6033ddhgydwhpq5w0000gn/T/ipykernel_90896/3372540482.py:1: DtypeWarning: Columns (6,7,8,9) have mixed types. Specify dtype option on import or set low_memory=False.\n",
      "  data_model_raw_all = pd.read_csv('/Users/mikhailmerkurev/Downloads/data_model_raw_all.csv')\n"
     ]
    },
    {
     "data": {
      "text/html": [
       "<div>\n",
       "<style scoped>\n",
       "    .dataframe tbody tr th:only-of-type {\n",
       "        vertical-align: middle;\n",
       "    }\n",
       "\n",
       "    .dataframe tbody tr th {\n",
       "        vertical-align: top;\n",
       "    }\n",
       "\n",
       "    .dataframe thead th {\n",
       "        text-align: right;\n",
       "    }\n",
       "</style>\n",
       "<table border=\"1\" class=\"dataframe\">\n",
       "  <thead>\n",
       "    <tr style=\"text-align: right;\">\n",
       "      <th></th>\n",
       "      <th>Unnamed: 0.1</th>\n",
       "      <th>Unnamed: 0</th>\n",
       "      <th>data_spec</th>\n",
       "      <th>data_spec_value</th>\n",
       "      <th>model</th>\n",
       "      <th>model_name</th>\n",
       "      <th>source</th>\n",
       "      <th>brand</th>\n",
       "      <th>source_x</th>\n",
       "      <th>source_y</th>\n",
       "    </tr>\n",
       "  </thead>\n",
       "  <tbody>\n",
       "    <tr>\n",
       "      <th>0</th>\n",
       "      <td>0</td>\n",
       "      <td>0.0</td>\n",
       "      <td>nettech</td>\n",
       "      <td>NaN</td>\n",
       "      <td>https://www.gsmarena.com/zte_voyage_40_pro+-12...</td>\n",
       "      <td>ZTE Voyage 40 Pro+</td>\n",
       "      <td>https://www.gsmarena.com/zte-phones-62.php</td>\n",
       "      <td>zte</td>\n",
       "      <td>NaN</td>\n",
       "      <td>NaN</td>\n",
       "    </tr>\n",
       "    <tr>\n",
       "      <th>1</th>\n",
       "      <td>1</td>\n",
       "      <td>1.0</td>\n",
       "      <td>net2g</td>\n",
       "      <td>GSM 850 / 900 / 1800 / 1900 - SIM 1 &amp;amp; SIM 2</td>\n",
       "      <td>https://www.gsmarena.com/zte_voyage_40_pro+-12...</td>\n",
       "      <td>ZTE Voyage 40 Pro+</td>\n",
       "      <td>https://www.gsmarena.com/zte-phones-62.php</td>\n",
       "      <td>zte</td>\n",
       "      <td>NaN</td>\n",
       "      <td>NaN</td>\n",
       "    </tr>\n",
       "    <tr>\n",
       "      <th>2</th>\n",
       "      <td>2</td>\n",
       "      <td>2.0</td>\n",
       "      <td>net3g</td>\n",
       "      <td>HSDPA 850 / 900 / 1900 / 2100</td>\n",
       "      <td>https://www.gsmarena.com/zte_voyage_40_pro+-12...</td>\n",
       "      <td>ZTE Voyage 40 Pro+</td>\n",
       "      <td>https://www.gsmarena.com/zte-phones-62.php</td>\n",
       "      <td>zte</td>\n",
       "      <td>NaN</td>\n",
       "      <td>NaN</td>\n",
       "    </tr>\n",
       "    <tr>\n",
       "      <th>3</th>\n",
       "      <td>3</td>\n",
       "      <td>3.0</td>\n",
       "      <td>net4g</td>\n",
       "      <td>LTE</td>\n",
       "      <td>https://www.gsmarena.com/zte_voyage_40_pro+-12...</td>\n",
       "      <td>ZTE Voyage 40 Pro+</td>\n",
       "      <td>https://www.gsmarena.com/zte-phones-62.php</td>\n",
       "      <td>zte</td>\n",
       "      <td>NaN</td>\n",
       "      <td>NaN</td>\n",
       "    </tr>\n",
       "    <tr>\n",
       "      <th>4</th>\n",
       "      <td>4</td>\n",
       "      <td>4.0</td>\n",
       "      <td>net5g</td>\n",
       "      <td>1, 5, 28, 41, 78, 84 SA/NSA</td>\n",
       "      <td>https://www.gsmarena.com/zte_voyage_40_pro+-12...</td>\n",
       "      <td>ZTE Voyage 40 Pro+</td>\n",
       "      <td>https://www.gsmarena.com/zte-phones-62.php</td>\n",
       "      <td>zte</td>\n",
       "      <td>NaN</td>\n",
       "      <td>NaN</td>\n",
       "    </tr>\n",
       "    <tr>\n",
       "      <th>...</th>\n",
       "      <td>...</td>\n",
       "      <td>...</td>\n",
       "      <td>...</td>\n",
       "      <td>...</td>\n",
       "      <td>...</td>\n",
       "      <td>...</td>\n",
       "      <td>...</td>\n",
       "      <td>...</td>\n",
       "      <td>...</td>\n",
       "      <td>...</td>\n",
       "    </tr>\n",
       "    <tr>\n",
       "      <th>370149</th>\n",
       "      <td>261513</td>\n",
       "      <td>NaN</td>\n",
       "      <td>batmusicplayback1</td>\n",
       "      <td>Up to 32 h</td>\n",
       "      <td>https://www.gsmarena.com/vivo_xshot-6799.php</td>\n",
       "      <td>vivo Xshot</td>\n",
       "      <td>NaN</td>\n",
       "      <td>NaN</td>\n",
       "      <td>NaN</td>\n",
       "      <td>https://www.gsmarena.com/vivo-phones-f-98-0-p9...</td>\n",
       "    </tr>\n",
       "    <tr>\n",
       "      <th>370150</th>\n",
       "      <td>261514</td>\n",
       "      <td>NaN</td>\n",
       "      <td>colors</td>\n",
       "      <td>White/Black</td>\n",
       "      <td>https://www.gsmarena.com/vivo_xshot-6799.php</td>\n",
       "      <td>vivo Xshot</td>\n",
       "      <td>NaN</td>\n",
       "      <td>NaN</td>\n",
       "      <td>NaN</td>\n",
       "      <td>https://www.gsmarena.com/vivo-phones-f-98-0-p9...</td>\n",
       "    </tr>\n",
       "    <tr>\n",
       "      <th>370151</th>\n",
       "      <td>261515</td>\n",
       "      <td>NaN</td>\n",
       "      <td>models</td>\n",
       "      <td>X710L</td>\n",
       "      <td>https://www.gsmarena.com/vivo_xshot-6799.php</td>\n",
       "      <td>vivo Xshot</td>\n",
       "      <td>NaN</td>\n",
       "      <td>NaN</td>\n",
       "      <td>NaN</td>\n",
       "      <td>https://www.gsmarena.com/vivo-phones-f-98-0-p9...</td>\n",
       "    </tr>\n",
       "    <tr>\n",
       "      <th>370152</th>\n",
       "      <td>261516</td>\n",
       "      <td>NaN</td>\n",
       "      <td>sar-us</td>\n",
       "      <td>0.47 W/kg (head)     1.33 W/kg (body)</td>\n",
       "      <td>https://www.gsmarena.com/vivo_xshot-6799.php</td>\n",
       "      <td>vivo Xshot</td>\n",
       "      <td>NaN</td>\n",
       "      <td>NaN</td>\n",
       "      <td>NaN</td>\n",
       "      <td>https://www.gsmarena.com/vivo-phones-f-98-0-p9...</td>\n",
       "    </tr>\n",
       "    <tr>\n",
       "      <th>370153</th>\n",
       "      <td>261517</td>\n",
       "      <td>NaN</td>\n",
       "      <td>sar-eu</td>\n",
       "      <td>0.32 W/kg (head)     0.98 W/kg (body)</td>\n",
       "      <td>https://www.gsmarena.com/vivo_xshot-6799.php</td>\n",
       "      <td>vivo Xshot</td>\n",
       "      <td>NaN</td>\n",
       "      <td>NaN</td>\n",
       "      <td>NaN</td>\n",
       "      <td>https://www.gsmarena.com/vivo-phones-f-98-0-p9...</td>\n",
       "    </tr>\n",
       "  </tbody>\n",
       "</table>\n",
       "<p>370154 rows × 10 columns</p>\n",
       "</div>"
      ],
      "text/plain": [
       "        Unnamed: 0.1  Unnamed: 0          data_spec  \\\n",
       "0                  0         0.0            nettech   \n",
       "1                  1         1.0              net2g   \n",
       "2                  2         2.0              net3g   \n",
       "3                  3         3.0              net4g   \n",
       "4                  4         4.0              net5g   \n",
       "...              ...         ...                ...   \n",
       "370149        261513         NaN  batmusicplayback1   \n",
       "370150        261514         NaN             colors   \n",
       "370151        261515         NaN             models   \n",
       "370152        261516         NaN             sar-us   \n",
       "370153        261517         NaN             sar-eu   \n",
       "\n",
       "                                        data_spec_value  \\\n",
       "0                                                   NaN   \n",
       "1       GSM 850 / 900 / 1800 / 1900 - SIM 1 &amp; SIM 2   \n",
       "2                        HSDPA 850 / 900 / 1900 / 2100    \n",
       "3                                                   LTE   \n",
       "4                           1, 5, 28, 41, 78, 84 SA/NSA   \n",
       "...                                                 ...   \n",
       "370149                                       Up to 32 h   \n",
       "370150                                      White/Black   \n",
       "370151                                            X710L   \n",
       "370152       0.47 W/kg (head)     1.33 W/kg (body)        \n",
       "370153       0.32 W/kg (head)     0.98 W/kg (body)        \n",
       "\n",
       "                                                    model          model_name  \\\n",
       "0       https://www.gsmarena.com/zte_voyage_40_pro+-12...  ZTE Voyage 40 Pro+   \n",
       "1       https://www.gsmarena.com/zte_voyage_40_pro+-12...  ZTE Voyage 40 Pro+   \n",
       "2       https://www.gsmarena.com/zte_voyage_40_pro+-12...  ZTE Voyage 40 Pro+   \n",
       "3       https://www.gsmarena.com/zte_voyage_40_pro+-12...  ZTE Voyage 40 Pro+   \n",
       "4       https://www.gsmarena.com/zte_voyage_40_pro+-12...  ZTE Voyage 40 Pro+   \n",
       "...                                                   ...                 ...   \n",
       "370149       https://www.gsmarena.com/vivo_xshot-6799.php          vivo Xshot   \n",
       "370150       https://www.gsmarena.com/vivo_xshot-6799.php          vivo Xshot   \n",
       "370151       https://www.gsmarena.com/vivo_xshot-6799.php          vivo Xshot   \n",
       "370152       https://www.gsmarena.com/vivo_xshot-6799.php          vivo Xshot   \n",
       "370153       https://www.gsmarena.com/vivo_xshot-6799.php          vivo Xshot   \n",
       "\n",
       "                                            source brand source_x  \\\n",
       "0       https://www.gsmarena.com/zte-phones-62.php   zte      NaN   \n",
       "1       https://www.gsmarena.com/zte-phones-62.php   zte      NaN   \n",
       "2       https://www.gsmarena.com/zte-phones-62.php   zte      NaN   \n",
       "3       https://www.gsmarena.com/zte-phones-62.php   zte      NaN   \n",
       "4       https://www.gsmarena.com/zte-phones-62.php   zte      NaN   \n",
       "...                                            ...   ...      ...   \n",
       "370149                                         NaN   NaN      NaN   \n",
       "370150                                         NaN   NaN      NaN   \n",
       "370151                                         NaN   NaN      NaN   \n",
       "370152                                         NaN   NaN      NaN   \n",
       "370153                                         NaN   NaN      NaN   \n",
       "\n",
       "                                                 source_y  \n",
       "0                                                     NaN  \n",
       "1                                                     NaN  \n",
       "2                                                     NaN  \n",
       "3                                                     NaN  \n",
       "4                                                     NaN  \n",
       "...                                                   ...  \n",
       "370149  https://www.gsmarena.com/vivo-phones-f-98-0-p9...  \n",
       "370150  https://www.gsmarena.com/vivo-phones-f-98-0-p9...  \n",
       "370151  https://www.gsmarena.com/vivo-phones-f-98-0-p9...  \n",
       "370152  https://www.gsmarena.com/vivo-phones-f-98-0-p9...  \n",
       "370153  https://www.gsmarena.com/vivo-phones-f-98-0-p9...  \n",
       "\n",
       "[370154 rows x 10 columns]"
      ]
     },
     "execution_count": 1184,
     "metadata": {},
     "output_type": "execute_result"
    }
   ],
   "source": [
    "data_model_raw_all = pd.read_csv('data_model_raw_all.csv')\n",
    "data_model_raw_all = data_model_raw_all.drop_duplicates(subset=['model_name', 'model_url'])\n",
    "data_model_raw_all"
   ]
  },
  {
   "cell_type": "markdown",
   "id": "13f55325",
   "metadata": {},
   "source": [
    "# Enrich dataset with prices"
   ]
  },
  {
   "cell_type": "code",
   "execution_count": 1245,
   "id": "58adf251",
   "metadata": {},
   "outputs": [],
   "source": [
    "price_data = pd.DataFrame({\n",
    "    'model': [None] ,\n",
    "    'price': [None] \n",
    "   \n",
    "})"
   ]
  },
  {
   "cell_type": "code",
   "execution_count": 1247,
   "id": "a3a624bc",
   "metadata": {},
   "outputs": [],
   "source": [
    "# html_data_model_raw_pag_lost = html_data_model_raw_pag_lost.drop_duplicates()"
   ]
  },
  {
   "cell_type": "code",
   "execution_count": 1248,
   "id": "7a9dca34",
   "metadata": {},
   "outputs": [],
   "source": [
    "# html_data_model_raw_pag_lost = html_data_model_raw_pag_lost.reset_index(drop=True)"
   ]
  },
  {
   "cell_type": "code",
   "execution_count": 1011,
   "id": "c9107db1",
   "metadata": {},
   "outputs": [],
   "source": [
    "html_data_model_raw_all = html_data_model_raw_all.drop_duplicates()"
   ]
  },
  {
   "cell_type": "code",
   "execution_count": 1012,
   "id": "28c68bbd",
   "metadata": {},
   "outputs": [],
   "source": [
    "html_data_model_raw_all = html_data_model_raw_all.reset_index(drop=True)"
   ]
  },
  {
   "cell_type": "code",
   "execution_count": 1292,
   "id": "a8023c07",
   "metadata": {
    "scrolled": true
   },
   "outputs": [],
   "source": [
    "# для парсинга из таблички\n",
    "for global_index, model_value in enumerate(html_data_model_raw_pag_lost['model']):  # html_data_model_raw_all['model']\n",
    " \n",
    "    #подключаемся\n",
    "    try:\n",
    "        soup = bs(html_data_model_raw_pag_lost['html'][global_index], \"html.parser\")  # html_data_model_raw_all['html']\n",
    "        print(global_index,model_value)\n",
    "\n",
    "        #парсим, выкидывая строчки, где падают ошибки - обычно это строчки в которых все поля незаполнены + сохраняем всю страницу на всякий\n",
    "        data_model = soup.find_all('td',\"nfo\",'data-spec')        \n",
    "\n",
    "        #цену в отдельный датафрейм загоняем \n",
    "        try:\n",
    "            price_raw = re.search('data-spec=\"price(.*)', str(data_model)).group(1)\n",
    "\n",
    "            if 'EUR' in price_raw:\n",
    "                df2 = pd.DataFrame( {\n",
    "                    \"model\": [model_value],\n",
    "                     \"price\": re.search('>(.*)<', price_raw).group(1).split()[1], \n",
    "                     })\n",
    "                price_data = price_data.append(df2, ignore_index = True)\n",
    "\n",
    "            else:\n",
    "                x = re.search('<a(.*)/a>', price_raw).group(1)\n",
    "                array_price = re.search('>(.*)<',x).group(1).replace('\\u2009','').replace(',','').split(r' / ')\n",
    "                df2 = pd.DataFrame( {\n",
    "                    \"model\": [model_value],\n",
    "                     \"price\": [array_price], \n",
    "                     })\n",
    "                price_data = price_data.append(df2, ignore_index = True)\n",
    "\n",
    "\n",
    "\n",
    "        except AttributeError:\n",
    "            df2 = pd.DataFrame( {\n",
    "                    \"model\": [model_value],\n",
    "                    \"price\": re.search('>(.*)<', price_raw).group(1).split()[1], })\n",
    "            price_data = price_data.append(df2, ignore_index = True)\n",
    "            continue\n",
    "            \n",
    "    except TypeError:\n",
    "        df2 = pd.DataFrame( {\n",
    "                    \"model\": [model_value],\n",
    "                     \"price\": 0, \n",
    "                     })\n",
    "        price_data = price_data.append(df2, ignore_index = True)\n",
    "        continue\n"
   ]
  },
  {
   "cell_type": "code",
   "execution_count": 1251,
   "id": "b1325f49",
   "metadata": {},
   "outputs": [],
   "source": [
    "price_data_df = price_data"
   ]
  },
  {
   "cell_type": "code",
   "execution_count": 1252,
   "id": "6fbb4d16",
   "metadata": {},
   "outputs": [
    {
     "name": "stderr",
     "output_type": "stream",
     "text": [
      "/var/folders/vt/7dt72kxx6033ddhgydwhpq5w0000gn/T/ipykernel_90896/278357810.py:10: SettingWithCopyWarning: \n",
      "A value is trying to be set on a copy of a slice from a DataFrame\n",
      "\n",
      "See the caveats in the documentation: https://pandas.pydata.org/pandas-docs/stable/user_guide/indexing.html#returning-a-view-versus-a-copy\n",
      "  price_data_df['$'][index] = element[1:].split('.')[0]\n",
      "/var/folders/vt/7dt72kxx6033ddhgydwhpq5w0000gn/T/ipykernel_90896/278357810.py:14: SettingWithCopyWarning: \n",
      "A value is trying to be set on a copy of a slice from a DataFrame\n",
      "\n",
      "See the caveats in the documentation: https://pandas.pydata.org/pandas-docs/stable/user_guide/indexing.html#returning-a-view-versus-a-copy\n",
      "  price_data_df['£'][index] = element[1:].split('.')[0]\n",
      "/var/folders/vt/7dt72kxx6033ddhgydwhpq5w0000gn/T/ipykernel_90896/278357810.py:12: SettingWithCopyWarning: \n",
      "A value is trying to be set on a copy of a slice from a DataFrame\n",
      "\n",
      "See the caveats in the documentation: https://pandas.pydata.org/pandas-docs/stable/user_guide/indexing.html#returning-a-view-versus-a-copy\n",
      "  price_data_df['€'][index] = element[1:].split('.')[0]\n"
     ]
    }
   ],
   "source": [
    "price_data_df['euro_total'] = 0\n",
    "price_data_df['$'] = 0\n",
    "price_data_df['€'] = 0\n",
    "price_data_df['£'] = 0\n",
    "\n",
    "for index, x in enumerate(price_data_df['price']):\n",
    "    try:\n",
    "        for element in x:\n",
    "                if '$' in element:\n",
    "                    price_data_df['$'][index] = element[1:].split('.')[0]\n",
    "                if '€' in element:\n",
    "                    price_data_df['€'][index] = element[1:].split('.')[0]\n",
    "                if '£' in element:\n",
    "                    price_data_df['£'][index] = element[1:].split('.')[0]\n",
    "    except TypeError:\n",
    "        continue"
   ]
  },
  {
   "cell_type": "code",
   "execution_count": 1254,
   "id": "9ce49e6d",
   "metadata": {},
   "outputs": [],
   "source": [
    "for index, x in enumerate(price_data_df['price']):\n",
    "    if price_data_df['$'][index] == 0 and price_data_df['€'][index] ==0 and price_data_df['£'][index] ==0 :\n",
    "        price_data_df['euro_total'][index] = price_data_df['price'][index]"
   ]
  },
  {
   "cell_type": "code",
   "execution_count": 1255,
   "id": "6b1680fb",
   "metadata": {},
   "outputs": [],
   "source": [
    "for index, x in enumerate(price_data_df['price']):\n",
    "    if price_data_df['€'][index] !=0:\n",
    "        price_data_df['euro_total'][index] = price_data_df['€'][index]"
   ]
  },
  {
   "cell_type": "code",
   "execution_count": 1256,
   "id": "5be8c936",
   "metadata": {},
   "outputs": [],
   "source": [
    "for index, x in enumerate(price_data_df['price']):\n",
    "    try:\n",
    "        if price_data_df['euro_total'][index] == 0 :\n",
    "            price_data_df['euro_total'][index] = int(price_data_df['$'][index])* 0.94 # по курсу на 17.02.23\n",
    "    except ValueError: \n",
    "        try:\n",
    "            price_data_df['euro_total'][index] = int(price_data_df['$'][index][1:])* 0.94 # по курсу на 17.02.23\n",
    "            continue\n",
    "        except ValueError: \n",
    "            price_data_df['euro_total'][index] = 0"
   ]
  },
  {
   "cell_type": "code",
   "execution_count": 1257,
   "id": "b8cd29a2",
   "metadata": {},
   "outputs": [],
   "source": [
    "for index, x in enumerate(price_data_df['price']):\n",
    "    try:\n",
    "        if price_data_df['euro_total'][index] == 0 :\n",
    "            price_data_df['euro_total'][index] = int(price_data_df['£'][index])* 1.12 # по курсу на 17.02.23\n",
    "    except ValueError: \n",
    "        try:\n",
    "            price_data_df['euro_total'][index] = int(price_data_df['£'][index][1:])* 1.12 # по курсу на 17.02.23\n",
    "            continue\n",
    "        except ValueError: \n",
    "            price_data_df['euro_total'][index] = 0"
   ]
  },
  {
   "cell_type": "code",
   "execution_count": 1258,
   "id": "d3534720",
   "metadata": {},
   "outputs": [],
   "source": [
    "for index, x in enumerate(price_data_df['euro_total']):\n",
    "    try:\n",
    "        price_data_df['euro_total'][index] = float(price_data_df['euro_total'][index])\n",
    "    except ValueError: \n",
    "        price_data_df['euro_total'][index] = 0\n",
    "    except TypeError: \n",
    "        price_data_df['euro_total'][index] = 0"
   ]
  },
  {
   "cell_type": "code",
   "execution_count": 1032,
   "id": "5b5bc013",
   "metadata": {},
   "outputs": [],
   "source": [
    "# price_data_df.to_csv('price_data_df.csv')"
   ]
  },
  {
   "cell_type": "code",
   "execution_count": 1127,
   "id": "756ee6f2",
   "metadata": {},
   "outputs": [],
   "source": [
    "device_features_all = pd.read_csv('device_features_all.csv')"
   ]
  },
  {
   "cell_type": "code",
   "execution_count": 1128,
   "id": "9de7a4fe",
   "metadata": {
    "scrolled": true
   },
   "outputs": [],
   "source": [
    "device_features_all = device_features_all.merge(price_data_df, left_on='model_url', right_on='model')\n",
    "device_features_all = device_features_all.drop(columns=['Unnamed: 0.1','price_euro','price_y','Unnamed: 0','source'])"
   ]
  },
  {
   "cell_type": "code",
   "execution_count": 1129,
   "id": "9653b7db",
   "metadata": {},
   "outputs": [],
   "source": [
    "device_features_all = device_features_all.rename(columns={'price_x': 'price'})"
   ]
  },
  {
   "cell_type": "code",
   "execution_count": 1130,
   "id": "d8006ae2",
   "metadata": {},
   "outputs": [
    {
     "name": "stderr",
     "output_type": "stream",
     "text": [
      "/var/folders/vt/7dt72kxx6033ddhgydwhpq5w0000gn/T/ipykernel_90896/354211543.py:7: SettingWithCopyWarning: \n",
      "A value is trying to be set on a copy of a slice from a DataFrame\n",
      "\n",
      "See the caveats in the documentation: https://pandas.pydata.org/pandas-docs/stable/user_guide/indexing.html#returning-a-view-versus-a-copy\n",
      "  device_features_all['model_name_new'][x] = ' '.join(limited_name).replace(\"(\", \"\" ).replace(\")\", \"\" )\n"
     ]
    }
   ],
   "source": [
    "# добавляем удобное имя для парсинга\n",
    "device_features_all['model_name_new'] = 'NULL'\n",
    "device_features_all['model_name_new_lower'] = 'NULL'\n",
    "for x in range(len(device_features_all['model_name'])):\n",
    "    try:\n",
    "        limited_name = device_features_all['model_name'][x].split(\" \")[1:]\n",
    "        device_features_all['model_name_new'][x] = ' '.join(limited_name).replace(\"(\", \"\" ).replace(\")\", \"\" )\n",
    "#         device_features_all['model_name_new_lower'][x] = ' '.join(limited_name).replace(\"(\", \"\" ).replace(\")\", \"\" ).lower()\n",
    "    except AttributeError:\n",
    "        continue\n",
    "    except IndexError:\n",
    "        continue"
   ]
  },
  {
   "cell_type": "code",
   "execution_count": 1131,
   "id": "401d7612",
   "metadata": {},
   "outputs": [
    {
     "name": "stderr",
     "output_type": "stream",
     "text": [
      "/var/folders/vt/7dt72kxx6033ddhgydwhpq5w0000gn/T/ipykernel_90896/3122488368.py:3: SettingWithCopyWarning: \n",
      "A value is trying to be set on a copy of a slice from a DataFrame\n",
      "\n",
      "See the caveats in the documentation: https://pandas.pydata.org/pandas-docs/stable/user_guide/indexing.html#returning-a-view-versus-a-copy\n",
      "  device_features_all['brand'][index] = device_features_all['model_url'][index].split('/')[3].split('_')[0].capitalize()\n"
     ]
    }
   ],
   "source": [
    "device_features_all['brand'] = 'NULL'\n",
    "for index, value in enumerate(device_features_all['model_url']):\n",
    "    device_features_all['brand'][index] = device_features_all['model_url'][index].split('/')[3].split('_')[0].capitalize()"
   ]
  },
  {
   "cell_type": "code",
   "execution_count": 1132,
   "id": "57bdb420",
   "metadata": {},
   "outputs": [],
   "source": [
    "device_features_all.drop_duplicates(subset=['model_name', 'model_url'], inplace=True)"
   ]
  },
  {
   "cell_type": "code",
   "execution_count": 1133,
   "id": "1a5a5b8a",
   "metadata": {},
   "outputs": [],
   "source": [
    "device_features_all.reset_index(inplace=True, drop=True)"
   ]
  },
  {
   "cell_type": "code",
   "execution_count": 1277,
   "id": "fe950cd1",
   "metadata": {},
   "outputs": [],
   "source": [
    "device_features_all.to_csv('device_features_all_2.csv')"
   ]
  }
 ],
 "metadata": {
  "kernelspec": {
   "display_name": "Python 3 (ipykernel)",
   "language": "python",
   "name": "python3"
  },
  "language_info": {
   "codemirror_mode": {
    "name": "ipython",
    "version": 3
   },
   "file_extension": ".py",
   "mimetype": "text/x-python",
   "name": "python",
   "nbconvert_exporter": "python",
   "pygments_lexer": "ipython3",
   "version": "3.9.13"
  }
 },
 "nbformat": 4,
 "nbformat_minor": 5
}
